{
  "cells": [
    {
      "cell_type": "markdown",
      "source": [
        "Pallavi Mazumdar"
      ],
      "metadata": {
        "id": "nTHUZcy-pmO7"
      }
    },
    {
      "cell_type": "markdown",
      "metadata": {
        "id": "MCb2Qk4Fpajc"
      },
      "source": [
        "## Install MySQL"
      ]
    },
    {
      "cell_type": "code",
      "execution_count": null,
      "metadata": {
        "colab": {
          "base_uri": "https://localhost:8080/"
        },
        "id": "Lz9UOPeupctr",
        "outputId": "0ea6cb52-0a5d-4fb4-8859-4ad25f8f58ff"
      },
      "outputs": [
        {
          "output_type": "stream",
          "name": "stdout",
          "text": [
            "\n",
            "WARNING: apt does not have a stable CLI interface. Use with caution in scripts.\n",
            "\n",
            "\n",
            "WARNING: apt does not have a stable CLI interface. Use with caution in scripts.\n",
            "\n",
            " * Stopping MySQL database server mysqld\n",
            "   ...done.\n",
            " * Starting MySQL database server mysqld\n",
            "No directory, logging in with HOME=/\n",
            "   ...done.\n"
          ]
        }
      ],
      "source": [
        "!apt update > /dev/null\n",
        "!apt install -y  mysql-server > /dev/null\n",
        "!/etc/init.d/mysql restart\n"
      ]
    },
    {
      "cell_type": "code",
      "execution_count": null,
      "metadata": {
        "colab": {
          "base_uri": "https://localhost:8080/"
        },
        "id": "3h9ULPp4zta8",
        "outputId": "8171187c-92cb-438a-dba0-3107cbeb9114"
      },
      "outputs": [
        {
          "output_type": "stream",
          "name": "stdout",
          "text": [
            "ERROR 1007 (HY000) at line 1: Can't create database 'praxisDB'; database exists\n",
            "+--------------------+\n",
            "| Database           |\n",
            "+--------------------+\n",
            "| information_schema |\n",
            "| mysql              |\n",
            "| performance_schema |\n",
            "| praxisDB           |\n",
            "| sys                |\n",
            "+--------------------+\n"
          ]
        }
      ],
      "source": [
        "!mysql -e 'create database praxisDB'\n",
        "!mysql -e 'show databases'"
      ]
    },
    {
      "cell_type": "markdown",
      "metadata": {
        "id": "ZGOv_BcWrHu0"
      },
      "source": [
        "## Create Tables"
      ]
    },
    {
      "cell_type": "code",
      "execution_count": null,
      "metadata": {
        "id": "zGVnFRqdPZst"
      },
      "outputs": [],
      "source": [
        "!mysql praxisDB -e 'drop table if exists itemsordered'\n",
        "# --------------------------------------------------------------\n",
        "!mysql praxisDB -e '\\\n",
        "CREATE TABLE IF NOT EXISTS itemsordered (\\\n",
        "customerid char(5),orderdate date, item varchar(30), quantity int(4), price decimal(5,2)) \\\n",
        "'"
      ]
    },
    {
      "cell_type": "code",
      "execution_count": null,
      "metadata": {
        "colab": {
          "base_uri": "https://localhost:8080/"
        },
        "id": "cjlJW2el9VDw",
        "outputId": "773e9b99-affc-4734-fd33-5a93ad61c848"
      },
      "outputs": [
        {
          "output_type": "stream",
          "name": "stdout",
          "text": [
            "+------------+--------------+------+-----+---------+-------+\n",
            "| Field      | Type         | Null | Key | Default | Extra |\n",
            "+------------+--------------+------+-----+---------+-------+\n",
            "| customerid | char(5)      | YES  |     | NULL    |       |\n",
            "| orderdate  | date         | YES  |     | NULL    |       |\n",
            "| item       | varchar(30)  | YES  |     | NULL    |       |\n",
            "| quantity   | int(4)       | YES  |     | NULL    |       |\n",
            "| price      | decimal(5,2) | YES  |     | NULL    |       |\n",
            "+------------+--------------+------+-----+---------+-------+\n"
          ]
        }
      ],
      "source": [
        "!mysql praxisDB -e 'desc itemsordered'"
      ]
    },
    {
      "cell_type": "code",
      "execution_count": null,
      "metadata": {
        "id": "ocy8viMMojNm"
      },
      "outputs": [],
      "source": [
        "!mysql praxisDB -e 'drop table if exists customers'\n",
        "# --------------------------------------------------------------\n",
        "!mysql praxisDB -e '\\\n",
        "CREATE TABLE IF NOT EXISTS customers (customerid char(5),firstname varchar(20),lastname varchar(20), city varchar(20), state varchar(20)) \\\n",
        "'"
      ]
    },
    {
      "cell_type": "code",
      "execution_count": null,
      "metadata": {
        "colab": {
          "base_uri": "https://localhost:8080/"
        },
        "id": "2CpIoZxApNuB",
        "outputId": "562f31cb-c591-42c2-9ce4-ac51cc7066a4"
      },
      "outputs": [
        {
          "output_type": "stream",
          "name": "stdout",
          "text": [
            "+------------+-------------+------+-----+---------+-------+\n",
            "| Field      | Type        | Null | Key | Default | Extra |\n",
            "+------------+-------------+------+-----+---------+-------+\n",
            "| customerid | char(5)     | YES  |     | NULL    |       |\n",
            "| firstname  | varchar(20) | YES  |     | NULL    |       |\n",
            "| lastname   | varchar(20) | YES  |     | NULL    |       |\n",
            "| city       | varchar(20) | YES  |     | NULL    |       |\n",
            "| state      | varchar(20) | YES  |     | NULL    |       |\n",
            "+------------+-------------+------+-----+---------+-------+\n"
          ]
        }
      ],
      "source": [
        "!mysql praxisDB -e 'desc customers'"
      ]
    },
    {
      "cell_type": "markdown",
      "metadata": {
        "id": "KAc5RcY4n5Zr"
      },
      "source": [
        "## Load Tables"
      ]
    },
    {
      "cell_type": "code",
      "execution_count": null,
      "metadata": {
        "colab": {
          "base_uri": "https://localhost:8080/"
        },
        "id": "joDEg9Tt6cHU",
        "outputId": "49869c97-851e-44d1-cb64-25af18a5dc6d"
      },
      "outputs": [
        {
          "output_type": "stream",
          "name": "stdout",
          "text": [
            "Downloading...\n",
            "From: https://drive.google.com/uc?id=1Ug15GbEmeTnwJnuH-4fpPeZ1k20ryoGx\n",
            "To: /content/OrdersSQL2.csv\n",
            "100% 1.16k/1.16k [00:00<00:00, 1.96MB/s]\n",
            "Downloading...\n",
            "From: https://drive.google.com/uc?id=1qx6duSqzQUJSkpHNQIIZ9l0T6zYtjT-y\n",
            "To: /content/CustomersSQL2.csv\n",
            "100% 695/695 [00:00<00:00, 780kB/s]\n"
          ]
        }
      ],
      "source": [
        "# Download two CSV files from G-Drive into the Colab VM\n",
        "#!gdown https://drive.google.com/uc?id=1WxuruueFwMTjmPb-DvvVnGYB78Ty4OkP\n",
        "#!gdown https://drive.google.com/uc?id=1j49sqYHv0UoskVJDzNObWxECFF7ySsld\n",
        "\n",
        "!gdown 1Ug15GbEmeTnwJnuH-4fpPeZ1k20ryoGx\n",
        "!gdown 1qx6duSqzQUJSkpHNQIIZ9l0T6zYtjT-y"
      ]
    },
    {
      "cell_type": "code",
      "execution_count": null,
      "metadata": {
        "colab": {
          "base_uri": "https://localhost:8080/"
        },
        "id": "4oC4rYtFOWzx",
        "outputId": "e7aba6dc-d3d3-4f99-9c44-5ebe7fb4faa9"
      },
      "outputs": [
        {
          "output_type": "stream",
          "name": "stdout",
          "text": [
            "CustomersSQL2.csv  OrdersSQL2.csv  sample_data\n"
          ]
        }
      ],
      "source": [
        "# upload the two CSV files into the Colab VM\n",
        "!ls"
      ]
    },
    {
      "cell_type": "code",
      "execution_count": null,
      "metadata": {
        "colab": {
          "base_uri": "https://localhost:8080/"
        },
        "id": "0PLgr3ZS2Sgw",
        "outputId": "2d386fb4-c4ff-4774-d1c8-68f7b9592ccb"
      },
      "outputs": [
        {
          "output_type": "stream",
          "name": "stdout",
          "text": [
            "customerid,order_date,item,quantity,price\r\n",
            "10330,30-Jun-1999,Pogo stick,1,28\r\n",
            "10101,30-Jun-1999,Raft,1,58\r\n",
            "10298,01-Jul-1999,Skateboard,1,33\r\n",
            "10101,01-Jul-1999,Life Vest,4,125\r\n",
            "10299,06-Jul-1999,Parachute,1,1250\r\n",
            "10339,27-Jul-1999,Umbrella,1,4.5\r\n",
            "10449,13-Aug-1999,Unicycle,1,180.79\r\n",
            "10439,14-Aug-1999,Ski Poles,2,25.5\r\n",
            "10101,18-Aug-1999,Rain Coat,1,18.3\r\n"
          ]
        }
      ],
      "source": [
        "#!head 'SQLCourse2 - ItemsOrdered.csv'\n",
        "!head 'OrdersSQL2.csv'"
      ]
    },
    {
      "cell_type": "code",
      "execution_count": null,
      "metadata": {
        "id": "UCqFFLc7yUrH"
      },
      "outputs": [],
      "source": [
        "!mysql praxisDB -e'select * from itemsordered'"
      ]
    },
    {
      "cell_type": "code",
      "execution_count": null,
      "metadata": {
        "id": "egGX7wzkPsBB"
      },
      "outputs": [],
      "source": [
        "# Note first line, with header columns ignored\n",
        "# Note date is converted from string to proper date format\n",
        "#\n",
        "!mysql praxisDB -e \"   \\\n",
        "LOAD DATA LOCAL INFILE 'OrdersSQL2.csv' \\\n",
        "ignore \\\n",
        "INTO  TABLE itemsordered  \\\n",
        "FIELDS TERMINATED BY ',' enclosed by '\\\"' LINES TERMINATED BY '\\r\\n' IGNORE 1 LINES  \\\n",
        "(customerid,@orderdate, item, quantity, price) \\\n",
        "set orderdate = STR_TO_DATE(@orderdate,'%d-%b-%Y');\\\n",
        "\""
      ]
    },
    {
      "cell_type": "code",
      "execution_count": null,
      "metadata": {
        "id": "ppvWDJsi-jRa"
      },
      "outputs": [],
      "source": [
        "#!mysql praxisDB -e 'select * from itemsordered;'"
      ]
    },
    {
      "cell_type": "code",
      "execution_count": null,
      "metadata": {
        "id": "LE-iniTPpVuX"
      },
      "outputs": [],
      "source": [
        "# Note first line, with header columns ignored\n",
        "#\n",
        "!mysql praxisDB -e \"   \\\n",
        "LOAD DATA LOCAL INFILE 'CustomersSQL2.csv' INTO TABLE customers \\\n",
        "FIELDS TERMINATED BY ',' enclosed by '\\\"' LINES TERMINATED BY '\\r\\n'  IGNORE 1 LINES;  \\\n",
        "\""
      ]
    },
    {
      "cell_type": "code",
      "execution_count": null,
      "metadata": {
        "id": "uXw3zTbqpyIJ"
      },
      "outputs": [],
      "source": [
        "#!mysql praxisDB -e 'select * from customers;'"
      ]
    },
    {
      "cell_type": "markdown",
      "metadata": {
        "id": "K4I8Db7_sjSf"
      },
      "source": [
        "#Using Remote Server"
      ]
    },
    {
      "cell_type": "markdown",
      "metadata": {
        "id": "QLLUcW5js8lc"
      },
      "source": [
        "## Set Public Credentials"
      ]
    },
    {
      "cell_type": "code",
      "execution_count": null,
      "metadata": {
        "id": "sz5ZbznNs_0J"
      },
      "outputs": [],
      "source": [
        "# enter credentials here\n",
        "#hostName = 'remotemysql.com'   # place your own credentials here\n",
        "#userName = 'yourUserName'      # place your own credentials here\n",
        "#passWord = 'yourPassWord'      # place your own credentials here\n",
        "#dbName =  'yourDBname'         # place your own credentials here\n",
        "\n",
        "#print(hostName,userName,dbName)"
      ]
    },
    {
      "cell_type": "markdown",
      "metadata": {
        "id": "2n05YF-8tBNW"
      },
      "source": [
        "## Set Private Credentials"
      ]
    },
    {
      "cell_type": "code",
      "execution_count": null,
      "metadata": {
        "colab": {
          "base_uri": "https://localhost:8080/",
          "height": 380
        },
        "id": "7teZGFeztEwd",
        "outputId": "6850e8ae-e794-4d6e-a3df-4712ea4b368f"
      },
      "outputs": [
        {
          "ename": "MessageError",
          "evalue": "ignored",
          "output_type": "error",
          "traceback": [
            "\u001b[0;31m---------------------------------------------------------------------------\u001b[0m",
            "\u001b[0;31mMessageError\u001b[0m                              Traceback (most recent call last)",
            "\u001b[0;32m<ipython-input-59-78b84de3dbb2>\u001b[0m in \u001b[0;36m<module>\u001b[0;34m\u001b[0m\n\u001b[1;32m      1\u001b[0m \u001b[0;31m#connect to G-Drive\u001b[0m\u001b[0;34m\u001b[0m\u001b[0;34m\u001b[0m\u001b[0;34m\u001b[0m\u001b[0m\n\u001b[1;32m      2\u001b[0m \u001b[0;32mfrom\u001b[0m \u001b[0mgoogle\u001b[0m\u001b[0;34m.\u001b[0m\u001b[0mcolab\u001b[0m \u001b[0;32mimport\u001b[0m \u001b[0mdrive\u001b[0m\u001b[0;34m\u001b[0m\u001b[0;34m\u001b[0m\u001b[0m\n\u001b[0;32m----> 3\u001b[0;31m \u001b[0mdrive\u001b[0m\u001b[0;34m.\u001b[0m\u001b[0mmount\u001b[0m\u001b[0;34m(\u001b[0m\u001b[0;34m'/content/drive'\u001b[0m\u001b[0;34m)\u001b[0m\u001b[0;34m\u001b[0m\u001b[0;34m\u001b[0m\u001b[0m\n\u001b[0m\u001b[1;32m      4\u001b[0m \u001b[0;31m# copy credentials file\u001b[0m\u001b[0;34m\u001b[0m\u001b[0;34m\u001b[0m\u001b[0;34m\u001b[0m\u001b[0m\n\u001b[1;32m      5\u001b[0m \u001b[0;31m#!ls /content/drive/'My Drive'/Praxis/WebCredentials\u001b[0m\u001b[0;34m\u001b[0m\u001b[0;34m\u001b[0m\u001b[0;34m\u001b[0m\u001b[0m\n",
            "\u001b[0;32m/usr/local/lib/python3.7/dist-packages/google/colab/drive.py\u001b[0m in \u001b[0;36mmount\u001b[0;34m(mountpoint, force_remount, timeout_ms)\u001b[0m\n\u001b[1;32m    103\u001b[0m       \u001b[0mforce_remount\u001b[0m\u001b[0;34m=\u001b[0m\u001b[0mforce_remount\u001b[0m\u001b[0;34m,\u001b[0m\u001b[0;34m\u001b[0m\u001b[0;34m\u001b[0m\u001b[0m\n\u001b[1;32m    104\u001b[0m       \u001b[0mtimeout_ms\u001b[0m\u001b[0;34m=\u001b[0m\u001b[0mtimeout_ms\u001b[0m\u001b[0;34m,\u001b[0m\u001b[0;34m\u001b[0m\u001b[0;34m\u001b[0m\u001b[0m\n\u001b[0;32m--> 105\u001b[0;31m       ephemeral=True)\n\u001b[0m\u001b[1;32m    106\u001b[0m \u001b[0;34m\u001b[0m\u001b[0m\n\u001b[1;32m    107\u001b[0m \u001b[0;34m\u001b[0m\u001b[0m\n",
            "\u001b[0;32m/usr/local/lib/python3.7/dist-packages/google/colab/drive.py\u001b[0m in \u001b[0;36m_mount\u001b[0;34m(mountpoint, force_remount, timeout_ms, ephemeral)\u001b[0m\n\u001b[1;32m    118\u001b[0m   \u001b[0;32mif\u001b[0m \u001b[0mephemeral\u001b[0m\u001b[0;34m:\u001b[0m\u001b[0;34m\u001b[0m\u001b[0;34m\u001b[0m\u001b[0m\n\u001b[1;32m    119\u001b[0m     _message.blocking_request(\n\u001b[0;32m--> 120\u001b[0;31m         'request_auth', request={'authType': 'dfs_ephemeral'}, timeout_sec=None)\n\u001b[0m\u001b[1;32m    121\u001b[0m \u001b[0;34m\u001b[0m\u001b[0m\n\u001b[1;32m    122\u001b[0m   \u001b[0mmountpoint\u001b[0m \u001b[0;34m=\u001b[0m \u001b[0m_os\u001b[0m\u001b[0;34m.\u001b[0m\u001b[0mpath\u001b[0m\u001b[0;34m.\u001b[0m\u001b[0mexpanduser\u001b[0m\u001b[0;34m(\u001b[0m\u001b[0mmountpoint\u001b[0m\u001b[0;34m)\u001b[0m\u001b[0;34m\u001b[0m\u001b[0;34m\u001b[0m\u001b[0m\n",
            "\u001b[0;32m/usr/local/lib/python3.7/dist-packages/google/colab/_message.py\u001b[0m in \u001b[0;36mblocking_request\u001b[0;34m(request_type, request, timeout_sec, parent)\u001b[0m\n\u001b[1;32m    169\u001b[0m   request_id = send_request(\n\u001b[1;32m    170\u001b[0m       request_type, request, parent=parent, expect_reply=True)\n\u001b[0;32m--> 171\u001b[0;31m   \u001b[0;32mreturn\u001b[0m \u001b[0mread_reply_from_input\u001b[0m\u001b[0;34m(\u001b[0m\u001b[0mrequest_id\u001b[0m\u001b[0;34m,\u001b[0m \u001b[0mtimeout_sec\u001b[0m\u001b[0;34m)\u001b[0m\u001b[0;34m\u001b[0m\u001b[0;34m\u001b[0m\u001b[0m\n\u001b[0m",
            "\u001b[0;32m/usr/local/lib/python3.7/dist-packages/google/colab/_message.py\u001b[0m in \u001b[0;36mread_reply_from_input\u001b[0;34m(message_id, timeout_sec)\u001b[0m\n\u001b[1;32m    100\u001b[0m         reply.get('colab_msg_id') == message_id):\n\u001b[1;32m    101\u001b[0m       \u001b[0;32mif\u001b[0m \u001b[0;34m'error'\u001b[0m \u001b[0;32min\u001b[0m \u001b[0mreply\u001b[0m\u001b[0;34m:\u001b[0m\u001b[0;34m\u001b[0m\u001b[0;34m\u001b[0m\u001b[0m\n\u001b[0;32m--> 102\u001b[0;31m         \u001b[0;32mraise\u001b[0m \u001b[0mMessageError\u001b[0m\u001b[0;34m(\u001b[0m\u001b[0mreply\u001b[0m\u001b[0;34m[\u001b[0m\u001b[0;34m'error'\u001b[0m\u001b[0;34m]\u001b[0m\u001b[0;34m)\u001b[0m\u001b[0;34m\u001b[0m\u001b[0;34m\u001b[0m\u001b[0m\n\u001b[0m\u001b[1;32m    103\u001b[0m       \u001b[0;32mreturn\u001b[0m \u001b[0mreply\u001b[0m\u001b[0;34m.\u001b[0m\u001b[0mget\u001b[0m\u001b[0;34m(\u001b[0m\u001b[0;34m'data'\u001b[0m\u001b[0;34m,\u001b[0m \u001b[0;32mNone\u001b[0m\u001b[0;34m)\u001b[0m\u001b[0;34m\u001b[0m\u001b[0;34m\u001b[0m\u001b[0m\n\u001b[1;32m    104\u001b[0m \u001b[0;34m\u001b[0m\u001b[0m\n",
            "\u001b[0;31mMessageError\u001b[0m: Error: credential propagation was unsuccessful"
          ]
        }
      ],
      "source": [
        "#connect to G-Drive\n",
        "from google.colab import drive\n",
        "drive.mount('/content/drive')\n",
        "# copy credentials file\n",
        "#!ls /content/drive/'My Drive'/Praxis/WebCredentials\n",
        "#!cp /content/drive/'My Drive'/Praxis/WebCredentials/sqlCredentials_020221.py .\n",
        "!cp /content/drive/'My Drive'/Praxis/WebCredentials/cleverCloud.py credentials.py\n",
        "from credentials import hostName,userName,passWord,dbName\n",
        "\n",
        "#for the sake of privacy\n",
        "#the following credentials need to be stored in a text file called sqlCredentials.py\n",
        "#in the format given below\n",
        "#in the Colab VM\n",
        "\n",
        "\n",
        "print(hostName,userName,dbName)"
      ]
    },
    {
      "cell_type": "code",
      "execution_count": null,
      "metadata": {
        "id": "i2vFdWuKth1y"
      },
      "outputs": [],
      "source": [
        "#NOTE SECURITY WARNING\n",
        "#Passing passwords in the command line is inherently risky and SHOULD NOT BE USED for any non-trivial work\n",
        "#---------------------------------------------------------------------\n",
        "!mysql -h '$hostName' -P 3306 -u '$userName' -p'$passWord' '$dbName' -e 'show tables'"
      ]
    },
    {
      "cell_type": "markdown",
      "metadata": {
        "id": "2GdxumuMun88"
      },
      "source": [
        "## Create Tables"
      ]
    },
    {
      "cell_type": "code",
      "execution_count": null,
      "metadata": {
        "colab": {
          "base_uri": "https://localhost:8080/"
        },
        "id": "N16gLXtcuuy2",
        "outputId": "12a88729-337a-4013-8a3b-2addc61b18e9"
      },
      "outputs": [
        {
          "output_type": "stream",
          "name": "stdout",
          "text": [
            "mysql: [Warning] Using a password on the command line interface can be insecure.\n",
            "ERROR 2005 (HY000): Unknown MySQL server host '$hostName' (0)\n",
            "mysql: [Warning] Using a password on the command line interface can be insecure.\n",
            "ERROR 2005 (HY000): Unknown MySQL server host '$hostName' (0)\n"
          ]
        }
      ],
      "source": [
        "#NOTE SECURITY WARNING\n",
        "#Passing passwords in the command line is inherently risky and SHOULD NOT BE USED for any non-trivial work\n",
        "#---------------------------------------------------------------------\n",
        "!mysql -h '$hostName' -P 3306 -u '$userName' -p'$passWord' '$dbName' -e 'drop table if exists customers'\n",
        "# --------------------------------------------------------------\n",
        "!mysql -h '$hostName' -P 3306 -u '$userName' -p'$passWord' '$dbName' -e '\\\n",
        "CREATE TABLE IF NOT EXISTS customers (\\\n",
        "customerid char(5),firstname varchar(20),lastname varchar(20), city varchar(20), state varchar(20)) \\\n",
        "'"
      ]
    },
    {
      "cell_type": "code",
      "execution_count": null,
      "metadata": {
        "colab": {
          "base_uri": "https://localhost:8080/"
        },
        "id": "pnydZIvhuq5C",
        "outputId": "527d7f39-548e-4c31-a03a-2a299e0e2034"
      },
      "outputs": [
        {
          "output_type": "stream",
          "name": "stdout",
          "text": [
            "mysql: [Warning] Using a password on the command line interface can be insecure.\n",
            "ERROR 2005 (HY000): Unknown MySQL server host '$hostName' (0)\n",
            "mysql: [Warning] Using a password on the command line interface can be insecure.\n",
            "ERROR 2005 (HY000): Unknown MySQL server host '$hostName' (0)\n"
          ]
        }
      ],
      "source": [
        "#NOTE SECURITY WARNING\n",
        "#Passing passwords in the command line is inherently risky and SHOULD NOT BE USED for any non-trivial work\n",
        "#---------------------------------------------------------------------\n",
        "!mysql -h '$hostName' -P 3306 -u '$userName' -p'$passWord' '$dbName' -e 'drop table if exists itemsordered'\n",
        "# --------------------------------------------------------------\n",
        "!mysql -h '$hostName' -P 3306 -u '$userName' -p'$passWord' '$dbName' -e '\\\n",
        "CREATE TABLE IF NOT EXISTS itemsordered (\\\n",
        "customerid char(5),orderdate date, item varchar(30), quantity int(4), price decimal(7,2)) \\\n",
        "'"
      ]
    },
    {
      "cell_type": "code",
      "execution_count": null,
      "metadata": {
        "colab": {
          "base_uri": "https://localhost:8080/"
        },
        "id": "7tZaf9NWv9Mu",
        "outputId": "efb5e18d-5a13-4de0-8e39-9fcbd792fb5c"
      },
      "outputs": [
        {
          "output_type": "stream",
          "name": "stdout",
          "text": [
            "mysql: [Warning] Using a password on the command line interface can be insecure.\n",
            "ERROR 2005 (HY000): Unknown MySQL server host '$hostName' (0)\n"
          ]
        }
      ],
      "source": [
        "#NOTE SECURITY WARNING\n",
        "#Passing passwords in the command line is inherently risky and SHOULD NOT BE USED for any non-trivial work\n",
        "#---------------------------------------------------------------------\n",
        "!mysql -h '$hostName' -P 3306 -u '$userName' -p'$passWord' '$dbName' -e 'show tables'"
      ]
    },
    {
      "cell_type": "markdown",
      "metadata": {
        "id": "9PiliVxOwf0X"
      },
      "source": [
        "## Load Tables with Load Command <br>\n",
        "In general this will NOT work because of authorisation issues"
      ]
    },
    {
      "cell_type": "code",
      "execution_count": null,
      "metadata": {
        "colab": {
          "base_uri": "https://localhost:8080/"
        },
        "id": "Io1j--oDlwKT",
        "outputId": "1c38b72b-58f1-4b7f-e754-1b8fac94cb4b"
      },
      "outputs": [
        {
          "output_type": "stream",
          "name": "stdout",
          "text": [
            "Access denied with the following error:\n",
            "\n",
            " \tCannot retrieve the public link of the file. You may need to change\n",
            "\tthe permission to 'Anyone with the link', or have had many accesses. \n",
            "\n",
            "You may still be able to access the file from the browser:\n",
            "\n",
            "\t https://drive.google.com/uc?id=1WxuruueFwMTjmPb-DvvVnGYB78Ty4OkP \n",
            "\n",
            "Access denied with the following error:\n",
            "\n",
            " \tCannot retrieve the public link of the file. You may need to change\n",
            "\tthe permission to 'Anyone with the link', or have had many accesses. \n",
            "\n",
            "You may still be able to access the file from the browser:\n",
            "\n",
            "\t https://drive.google.com/uc?id=1j49sqYHv0UoskVJDzNObWxECFF7ySsld \n",
            "\n"
          ]
        }
      ],
      "source": [
        "# Download two CSV files from G-Drive into the Colab VM\n",
        "!gdown https://drive.google.com/uc?id=1WxuruueFwMTjmPb-DvvVnGYB78Ty4OkP\n",
        "!gdown https://drive.google.com/uc?id=1j49sqYHv0UoskVJDzNObWxECFF7ySsld"
      ]
    },
    {
      "cell_type": "code",
      "execution_count": null,
      "metadata": {
        "colab": {
          "base_uri": "https://localhost:8080/"
        },
        "id": "1a8k9reE8ERf",
        "outputId": "cc853d8a-4e68-4648-d21d-0fa04201a138"
      },
      "outputs": [
        {
          "output_type": "stream",
          "name": "stdout",
          "text": [
            "CustomersSQL2.csv  OrdersSQL2.csv  sample_data\n"
          ]
        }
      ],
      "source": [
        "!ls"
      ]
    },
    {
      "cell_type": "code",
      "execution_count": null,
      "metadata": {
        "colab": {
          "base_uri": "https://localhost:8080/"
        },
        "id": "mc1dzgWAwsPZ",
        "outputId": "e9d3599b-c276-44a4-96f7-ec9fff2a4c61"
      },
      "outputs": [
        {
          "output_type": "stream",
          "name": "stdout",
          "text": [
            "mysql: [Warning] Using a password on the command line interface can be insecure.\n",
            "ERROR 2005 (HY000): Unknown MySQL server host '$hostName' (0)\n"
          ]
        }
      ],
      "source": [
        "#NOTE SECURITY WARNING\n",
        "#Passing passwords in the command line is inherently risky and SHOULD NOT BE USED for any non-trivial work\n",
        "#---------------------------------------------------------------------\n",
        "!mysql  -h '$hostName' -P 3306 -u '$userName' -p'$passWord' '$dbName' -e \"   \\\n",
        "LOAD DATA LOCAL INFILE 'SQLCourse2 - ItemsOrdered.csv' \\\n",
        "ignore \\\n",
        "INTO  TABLE itemsordered  \\\n",
        "FIELDS TERMINATED BY ',' enclosed by '\\\"' LINES TERMINATED BY '\\r\\n' IGNORE 1 LINES  \\\n",
        "(customerid,@orderdate, item, quantity, price) \\\n",
        "set orderdate = STR_TO_DATE(@orderdate,'%d-%b-%Y');\\\n",
        "\""
      ]
    },
    {
      "cell_type": "markdown",
      "metadata": {
        "id": "lnQqwciG1huR"
      },
      "source": [
        "## Load Table with PhP MyAdmin "
      ]
    },
    {
      "cell_type": "markdown",
      "metadata": {
        "id": "MxbmWF8e1DC-"
      },
      "source": [
        "CSV file can be uploaded  using the import command of the PhP MyAdmin function <br>\n",
        "However for this, the files have to 'cleaned up'"
      ]
    },
    {
      "cell_type": "code",
      "execution_count": null,
      "metadata": {
        "colab": {
          "base_uri": "https://localhost:8080/"
        },
        "id": "jYeLMNsf1T-u",
        "outputId": "2257c8ee-3f69-443f-efaf-8dc93d6e21e4"
      },
      "outputs": [
        {
          "output_type": "stream",
          "name": "stdout",
          "text": [
            "mysql: [Warning] Using a password on the command line interface can be insecure.\n",
            "ERROR 2005 (HY000): Unknown MySQL server host '$hostName' (0)\n"
          ]
        }
      ],
      "source": [
        "!mysql -h '$hostName' -P 3306 -u '$userName' -p'$passWord' '$dbName' -e 'select * from customers;'"
      ]
    },
    {
      "cell_type": "code",
      "execution_count": null,
      "metadata": {
        "id": "V8IeXisH4ACz"
      },
      "outputs": [],
      "source": [
        "import pandas as pd\n",
        "from datetime import datetime"
      ]
    },
    {
      "cell_type": "code",
      "execution_count": null,
      "metadata": {
        "colab": {
          "base_uri": "https://localhost:8080/",
          "height": 328
        },
        "id": "VDikfAWq3-Cu",
        "outputId": "d5d24c5d-4376-44ac-a06e-9cad4bae39d8"
      },
      "outputs": [
        {
          "output_type": "error",
          "ename": "FileNotFoundError",
          "evalue": "ignored",
          "traceback": [
            "\u001b[0;31m---------------------------------------------------------------------------\u001b[0m",
            "\u001b[0;31mFileNotFoundError\u001b[0m                         Traceback (most recent call last)",
            "\u001b[0;32m<ipython-input-27-b26a16c295e6>\u001b[0m in \u001b[0;36m<module>\u001b[0;34m\u001b[0m\n\u001b[0;32m----> 1\u001b[0;31m \u001b[0mdfItems\u001b[0m \u001b[0;34m=\u001b[0m \u001b[0mpd\u001b[0m\u001b[0;34m.\u001b[0m\u001b[0mread_csv\u001b[0m\u001b[0;34m(\u001b[0m\u001b[0;34m'SQLCourse2 - ItemsOrdered.csv'\u001b[0m\u001b[0;34m)\u001b[0m\u001b[0;34m\u001b[0m\u001b[0;34m\u001b[0m\u001b[0m\n\u001b[0m\u001b[1;32m      2\u001b[0m \u001b[0mdfItems\u001b[0m\u001b[0;34m.\u001b[0m\u001b[0mhead\u001b[0m\u001b[0;34m(\u001b[0m\u001b[0;34m)\u001b[0m\u001b[0;34m\u001b[0m\u001b[0;34m\u001b[0m\u001b[0m\n",
            "\u001b[0;32m/usr/local/lib/python3.7/dist-packages/pandas/util/_decorators.py\u001b[0m in \u001b[0;36mwrapper\u001b[0;34m(*args, **kwargs)\u001b[0m\n\u001b[1;32m    309\u001b[0m                     \u001b[0mstacklevel\u001b[0m\u001b[0;34m=\u001b[0m\u001b[0mstacklevel\u001b[0m\u001b[0;34m,\u001b[0m\u001b[0;34m\u001b[0m\u001b[0;34m\u001b[0m\u001b[0m\n\u001b[1;32m    310\u001b[0m                 )\n\u001b[0;32m--> 311\u001b[0;31m             \u001b[0;32mreturn\u001b[0m \u001b[0mfunc\u001b[0m\u001b[0;34m(\u001b[0m\u001b[0;34m*\u001b[0m\u001b[0margs\u001b[0m\u001b[0;34m,\u001b[0m \u001b[0;34m**\u001b[0m\u001b[0mkwargs\u001b[0m\u001b[0;34m)\u001b[0m\u001b[0;34m\u001b[0m\u001b[0;34m\u001b[0m\u001b[0m\n\u001b[0m\u001b[1;32m    312\u001b[0m \u001b[0;34m\u001b[0m\u001b[0m\n\u001b[1;32m    313\u001b[0m         \u001b[0;32mreturn\u001b[0m \u001b[0mwrapper\u001b[0m\u001b[0;34m\u001b[0m\u001b[0;34m\u001b[0m\u001b[0m\n",
            "\u001b[0;32m/usr/local/lib/python3.7/dist-packages/pandas/io/parsers/readers.py\u001b[0m in \u001b[0;36mread_csv\u001b[0;34m(filepath_or_buffer, sep, delimiter, header, names, index_col, usecols, squeeze, prefix, mangle_dupe_cols, dtype, engine, converters, true_values, false_values, skipinitialspace, skiprows, skipfooter, nrows, na_values, keep_default_na, na_filter, verbose, skip_blank_lines, parse_dates, infer_datetime_format, keep_date_col, date_parser, dayfirst, cache_dates, iterator, chunksize, compression, thousands, decimal, lineterminator, quotechar, quoting, doublequote, escapechar, comment, encoding, encoding_errors, dialect, error_bad_lines, warn_bad_lines, on_bad_lines, delim_whitespace, low_memory, memory_map, float_precision, storage_options)\u001b[0m\n\u001b[1;32m    584\u001b[0m     \u001b[0mkwds\u001b[0m\u001b[0;34m.\u001b[0m\u001b[0mupdate\u001b[0m\u001b[0;34m(\u001b[0m\u001b[0mkwds_defaults\u001b[0m\u001b[0;34m)\u001b[0m\u001b[0;34m\u001b[0m\u001b[0;34m\u001b[0m\u001b[0m\n\u001b[1;32m    585\u001b[0m \u001b[0;34m\u001b[0m\u001b[0m\n\u001b[0;32m--> 586\u001b[0;31m     \u001b[0;32mreturn\u001b[0m \u001b[0m_read\u001b[0m\u001b[0;34m(\u001b[0m\u001b[0mfilepath_or_buffer\u001b[0m\u001b[0;34m,\u001b[0m \u001b[0mkwds\u001b[0m\u001b[0;34m)\u001b[0m\u001b[0;34m\u001b[0m\u001b[0;34m\u001b[0m\u001b[0m\n\u001b[0m\u001b[1;32m    587\u001b[0m \u001b[0;34m\u001b[0m\u001b[0m\n\u001b[1;32m    588\u001b[0m \u001b[0;34m\u001b[0m\u001b[0m\n",
            "\u001b[0;32m/usr/local/lib/python3.7/dist-packages/pandas/io/parsers/readers.py\u001b[0m in \u001b[0;36m_read\u001b[0;34m(filepath_or_buffer, kwds)\u001b[0m\n\u001b[1;32m    480\u001b[0m \u001b[0;34m\u001b[0m\u001b[0m\n\u001b[1;32m    481\u001b[0m     \u001b[0;31m# Create the parser.\u001b[0m\u001b[0;34m\u001b[0m\u001b[0;34m\u001b[0m\u001b[0;34m\u001b[0m\u001b[0m\n\u001b[0;32m--> 482\u001b[0;31m     \u001b[0mparser\u001b[0m \u001b[0;34m=\u001b[0m \u001b[0mTextFileReader\u001b[0m\u001b[0;34m(\u001b[0m\u001b[0mfilepath_or_buffer\u001b[0m\u001b[0;34m,\u001b[0m \u001b[0;34m**\u001b[0m\u001b[0mkwds\u001b[0m\u001b[0;34m)\u001b[0m\u001b[0;34m\u001b[0m\u001b[0;34m\u001b[0m\u001b[0m\n\u001b[0m\u001b[1;32m    483\u001b[0m \u001b[0;34m\u001b[0m\u001b[0m\n\u001b[1;32m    484\u001b[0m     \u001b[0;32mif\u001b[0m \u001b[0mchunksize\u001b[0m \u001b[0;32mor\u001b[0m \u001b[0miterator\u001b[0m\u001b[0;34m:\u001b[0m\u001b[0;34m\u001b[0m\u001b[0;34m\u001b[0m\u001b[0m\n",
            "\u001b[0;32m/usr/local/lib/python3.7/dist-packages/pandas/io/parsers/readers.py\u001b[0m in \u001b[0;36m__init__\u001b[0;34m(self, f, engine, **kwds)\u001b[0m\n\u001b[1;32m    809\u001b[0m             \u001b[0mself\u001b[0m\u001b[0;34m.\u001b[0m\u001b[0moptions\u001b[0m\u001b[0;34m[\u001b[0m\u001b[0;34m\"has_index_names\"\u001b[0m\u001b[0;34m]\u001b[0m \u001b[0;34m=\u001b[0m \u001b[0mkwds\u001b[0m\u001b[0;34m[\u001b[0m\u001b[0;34m\"has_index_names\"\u001b[0m\u001b[0;34m]\u001b[0m\u001b[0;34m\u001b[0m\u001b[0;34m\u001b[0m\u001b[0m\n\u001b[1;32m    810\u001b[0m \u001b[0;34m\u001b[0m\u001b[0m\n\u001b[0;32m--> 811\u001b[0;31m         \u001b[0mself\u001b[0m\u001b[0;34m.\u001b[0m\u001b[0m_engine\u001b[0m \u001b[0;34m=\u001b[0m \u001b[0mself\u001b[0m\u001b[0;34m.\u001b[0m\u001b[0m_make_engine\u001b[0m\u001b[0;34m(\u001b[0m\u001b[0mself\u001b[0m\u001b[0;34m.\u001b[0m\u001b[0mengine\u001b[0m\u001b[0;34m)\u001b[0m\u001b[0;34m\u001b[0m\u001b[0;34m\u001b[0m\u001b[0m\n\u001b[0m\u001b[1;32m    812\u001b[0m \u001b[0;34m\u001b[0m\u001b[0m\n\u001b[1;32m    813\u001b[0m     \u001b[0;32mdef\u001b[0m \u001b[0mclose\u001b[0m\u001b[0;34m(\u001b[0m\u001b[0mself\u001b[0m\u001b[0;34m)\u001b[0m\u001b[0;34m:\u001b[0m\u001b[0;34m\u001b[0m\u001b[0;34m\u001b[0m\u001b[0m\n",
            "\u001b[0;32m/usr/local/lib/python3.7/dist-packages/pandas/io/parsers/readers.py\u001b[0m in \u001b[0;36m_make_engine\u001b[0;34m(self, engine)\u001b[0m\n\u001b[1;32m   1038\u001b[0m             )\n\u001b[1;32m   1039\u001b[0m         \u001b[0;31m# error: Too many arguments for \"ParserBase\"\u001b[0m\u001b[0;34m\u001b[0m\u001b[0;34m\u001b[0m\u001b[0;34m\u001b[0m\u001b[0m\n\u001b[0;32m-> 1040\u001b[0;31m         \u001b[0;32mreturn\u001b[0m \u001b[0mmapping\u001b[0m\u001b[0;34m[\u001b[0m\u001b[0mengine\u001b[0m\u001b[0;34m]\u001b[0m\u001b[0;34m(\u001b[0m\u001b[0mself\u001b[0m\u001b[0;34m.\u001b[0m\u001b[0mf\u001b[0m\u001b[0;34m,\u001b[0m \u001b[0;34m**\u001b[0m\u001b[0mself\u001b[0m\u001b[0;34m.\u001b[0m\u001b[0moptions\u001b[0m\u001b[0;34m)\u001b[0m  \u001b[0;31m# type: ignore[call-arg]\u001b[0m\u001b[0;34m\u001b[0m\u001b[0;34m\u001b[0m\u001b[0m\n\u001b[0m\u001b[1;32m   1041\u001b[0m \u001b[0;34m\u001b[0m\u001b[0m\n\u001b[1;32m   1042\u001b[0m     \u001b[0;32mdef\u001b[0m \u001b[0m_failover_to_python\u001b[0m\u001b[0;34m(\u001b[0m\u001b[0mself\u001b[0m\u001b[0;34m)\u001b[0m\u001b[0;34m:\u001b[0m\u001b[0;34m\u001b[0m\u001b[0;34m\u001b[0m\u001b[0m\n",
            "\u001b[0;32m/usr/local/lib/python3.7/dist-packages/pandas/io/parsers/c_parser_wrapper.py\u001b[0m in \u001b[0;36m__init__\u001b[0;34m(self, src, **kwds)\u001b[0m\n\u001b[1;32m     49\u001b[0m \u001b[0;34m\u001b[0m\u001b[0m\n\u001b[1;32m     50\u001b[0m         \u001b[0;31m# open handles\u001b[0m\u001b[0;34m\u001b[0m\u001b[0;34m\u001b[0m\u001b[0;34m\u001b[0m\u001b[0m\n\u001b[0;32m---> 51\u001b[0;31m         \u001b[0mself\u001b[0m\u001b[0;34m.\u001b[0m\u001b[0m_open_handles\u001b[0m\u001b[0;34m(\u001b[0m\u001b[0msrc\u001b[0m\u001b[0;34m,\u001b[0m \u001b[0mkwds\u001b[0m\u001b[0;34m)\u001b[0m\u001b[0;34m\u001b[0m\u001b[0;34m\u001b[0m\u001b[0m\n\u001b[0m\u001b[1;32m     52\u001b[0m         \u001b[0;32massert\u001b[0m \u001b[0mself\u001b[0m\u001b[0;34m.\u001b[0m\u001b[0mhandles\u001b[0m \u001b[0;32mis\u001b[0m \u001b[0;32mnot\u001b[0m \u001b[0;32mNone\u001b[0m\u001b[0;34m\u001b[0m\u001b[0;34m\u001b[0m\u001b[0m\n\u001b[1;32m     53\u001b[0m \u001b[0;34m\u001b[0m\u001b[0m\n",
            "\u001b[0;32m/usr/local/lib/python3.7/dist-packages/pandas/io/parsers/base_parser.py\u001b[0m in \u001b[0;36m_open_handles\u001b[0;34m(self, src, kwds)\u001b[0m\n\u001b[1;32m    227\u001b[0m             \u001b[0mmemory_map\u001b[0m\u001b[0;34m=\u001b[0m\u001b[0mkwds\u001b[0m\u001b[0;34m.\u001b[0m\u001b[0mget\u001b[0m\u001b[0;34m(\u001b[0m\u001b[0;34m\"memory_map\"\u001b[0m\u001b[0;34m,\u001b[0m \u001b[0;32mFalse\u001b[0m\u001b[0;34m)\u001b[0m\u001b[0;34m,\u001b[0m\u001b[0;34m\u001b[0m\u001b[0;34m\u001b[0m\u001b[0m\n\u001b[1;32m    228\u001b[0m             \u001b[0mstorage_options\u001b[0m\u001b[0;34m=\u001b[0m\u001b[0mkwds\u001b[0m\u001b[0;34m.\u001b[0m\u001b[0mget\u001b[0m\u001b[0;34m(\u001b[0m\u001b[0;34m\"storage_options\"\u001b[0m\u001b[0;34m,\u001b[0m \u001b[0;32mNone\u001b[0m\u001b[0;34m)\u001b[0m\u001b[0;34m,\u001b[0m\u001b[0;34m\u001b[0m\u001b[0;34m\u001b[0m\u001b[0m\n\u001b[0;32m--> 229\u001b[0;31m             \u001b[0merrors\u001b[0m\u001b[0;34m=\u001b[0m\u001b[0mkwds\u001b[0m\u001b[0;34m.\u001b[0m\u001b[0mget\u001b[0m\u001b[0;34m(\u001b[0m\u001b[0;34m\"encoding_errors\"\u001b[0m\u001b[0;34m,\u001b[0m \u001b[0;34m\"strict\"\u001b[0m\u001b[0;34m)\u001b[0m\u001b[0;34m,\u001b[0m\u001b[0;34m\u001b[0m\u001b[0;34m\u001b[0m\u001b[0m\n\u001b[0m\u001b[1;32m    230\u001b[0m         )\n\u001b[1;32m    231\u001b[0m \u001b[0;34m\u001b[0m\u001b[0m\n",
            "\u001b[0;32m/usr/local/lib/python3.7/dist-packages/pandas/io/common.py\u001b[0m in \u001b[0;36mget_handle\u001b[0;34m(path_or_buf, mode, encoding, compression, memory_map, is_text, errors, storage_options)\u001b[0m\n\u001b[1;32m    705\u001b[0m                 \u001b[0mencoding\u001b[0m\u001b[0;34m=\u001b[0m\u001b[0mioargs\u001b[0m\u001b[0;34m.\u001b[0m\u001b[0mencoding\u001b[0m\u001b[0;34m,\u001b[0m\u001b[0;34m\u001b[0m\u001b[0;34m\u001b[0m\u001b[0m\n\u001b[1;32m    706\u001b[0m                 \u001b[0merrors\u001b[0m\u001b[0;34m=\u001b[0m\u001b[0merrors\u001b[0m\u001b[0;34m,\u001b[0m\u001b[0;34m\u001b[0m\u001b[0;34m\u001b[0m\u001b[0m\n\u001b[0;32m--> 707\u001b[0;31m                 \u001b[0mnewline\u001b[0m\u001b[0;34m=\u001b[0m\u001b[0;34m\"\"\u001b[0m\u001b[0;34m,\u001b[0m\u001b[0;34m\u001b[0m\u001b[0;34m\u001b[0m\u001b[0m\n\u001b[0m\u001b[1;32m    708\u001b[0m             )\n\u001b[1;32m    709\u001b[0m         \u001b[0;32melse\u001b[0m\u001b[0;34m:\u001b[0m\u001b[0;34m\u001b[0m\u001b[0;34m\u001b[0m\u001b[0m\n",
            "\u001b[0;31mFileNotFoundError\u001b[0m: [Errno 2] No such file or directory: 'SQLCourse2 - ItemsOrdered.csv'"
          ]
        }
      ],
      "source": [
        "dfItems = pd.read_csv('SQLCourse2 - ItemsOrdered.csv')\n",
        "dfItems.head()"
      ]
    },
    {
      "cell_type": "code",
      "execution_count": null,
      "metadata": {
        "id": "6WsAxpwB4l0S"
      },
      "outputs": [],
      "source": [
        "# The order_date is changed to the proper MySQL format\n",
        "dfItems['order_date'] = dfItems['order_date'].apply(lambda s: datetime.strptime(s,'%d-%b-%Y').strftime(\"%Y-%m-%d\"))\n",
        "dfItems.head()\n",
        "\n"
      ]
    },
    {
      "cell_type": "code",
      "execution_count": null,
      "metadata": {
        "id": "Uq4RmhqBAjCt"
      },
      "outputs": [],
      "source": [
        "#convert modified dataframe to csv file for PhP MyAdmin Use\n",
        "dfItems.to_csv('rItemsOrders.csv', index=False, header=False)"
      ]
    },
    {
      "cell_type": "code",
      "execution_count": null,
      "metadata": {
        "id": "jP1oK36O-kIx"
      },
      "outputs": [],
      "source": [
        "# In this case, no date conversion is required, only header removed\n",
        "dfCustomers = pd.read_csv('SQLCourse2 - Customers.csv')\n",
        "dfCustomers.to_csv('rCustomers.csv', index=False, header=False)"
      ]
    },
    {
      "cell_type": "markdown",
      "metadata": {
        "id": "eIoTpY-HBFLL"
      },
      "source": [
        "# Pythons Functions for SQL commands"
      ]
    },
    {
      "cell_type": "code",
      "execution_count": null,
      "metadata": {
        "colab": {
          "base_uri": "https://localhost:8080/"
        },
        "id": "muMYozz1D-EC",
        "outputId": "fab84d74-89a5-4edd-8afc-b23f1e269523"
      },
      "outputs": [
        {
          "output_type": "stream",
          "name": "stdout",
          "text": [
            "\n",
            "WARNING: apt does not have a stable CLI interface. Use with caution in scripts.\n",
            "\n"
          ]
        }
      ],
      "source": [
        "!apt install libmysqlclient-dev > /dev/null\n",
        "!pip install mysqlclient > /dev/null\n",
        "import pandas as pd\n",
        "import MySQLdb"
      ]
    },
    {
      "cell_type": "code",
      "execution_count": null,
      "metadata": {
        "id": "NVDDq2VmBgQH"
      },
      "outputs": [],
      "source": [
        "#To run any non-SELECT SQL command\n",
        "def runCMD (loc, DDL):\n",
        "    if loc == 'remoteDB':\n",
        "        DBConn = MySQLdb.connect(hostName,userName,passWord,dbName)\n",
        "    elif loc == 'localDB':\n",
        "        DBConn = MySQLdb.connect(db='praxisDB')\n",
        "    else :\n",
        "        print('location must be \"remoteDB or \"localDB\"')\n",
        "    \n",
        "    myCursor = DBConn.cursor()\n",
        "    retcode = myCursor.execute(DDL) \n",
        "    print (retcode)\n",
        "    DBConn.commit()\n",
        "    DBConn.close()\n",
        "\n",
        "#To run any SELECT SQL command\n",
        "def runSELECT (loc, CMD):\n",
        "    if loc == 'remoteDB':\n",
        "        DBConn = MySQLdb.connect(hostName,userName,passWord,dbName)\n",
        "    elif loc == 'localDB':\n",
        "        DBConn = MySQLdb.connect(db='praxisDB')\n",
        "    else :\n",
        "        print('location must be \"remoteDB or \"localDB\"')\n",
        "    \n",
        "    df_mysql = pd.read_sql(CMD, con=DBConn)    \n",
        "    DBConn.close()\n",
        "    return df_mysql"
      ]
    },
    {
      "cell_type": "markdown",
      "metadata": {
        "id": "VIbZ_9LzDS0D"
      },
      "source": [
        "## Test SQL calls from Python"
      ]
    },
    {
      "cell_type": "code",
      "execution_count": null,
      "metadata": {
        "id": "i9G6UTJlDdi9"
      },
      "outputs": [],
      "source": [
        "# Set the location to whichever Database you need to access\n",
        "#\n",
        "# --------------------------------\n",
        "#\n",
        "location = 'localDB'\n",
        "#location = 'remoteDB'"
      ]
    },
    {
      "cell_type": "markdown",
      "source": [
        "SELECT STATEMENT"
      ],
      "metadata": {
        "id": "N1emBIspb6if"
      }
    },
    {
      "cell_type": "code",
      "execution_count": null,
      "metadata": {
        "colab": {
          "base_uri": "https://localhost:8080/",
          "height": 1000
        },
        "id": "WpIA5EvzDnCZ",
        "outputId": "90bea1d3-2776-435e-8d55-ceead8c65c67"
      },
      "outputs": [
        {
          "output_type": "execute_result",
          "data": {
            "text/plain": [
              "   customerid   orderdate                 item  quantity   price\n",
              "0       10330  1999-06-30           Pogo stick         1   28.00\n",
              "1       10101  1999-06-30                 Raft         1   58.00\n",
              "2       10298  1999-07-01           Skateboard         1   33.00\n",
              "3       10101  1999-07-01            Life Vest         4  125.00\n",
              "4       10299  1999-07-06            Parachute         1  999.99\n",
              "5       10339  1999-07-27             Umbrella         1    4.50\n",
              "6       10449  1999-08-13             Unicycle         1  180.79\n",
              "7       10439  1999-08-14            Ski Poles         2   25.50\n",
              "8       10101  1999-08-18            Rain Coat         1   18.30\n",
              "9       10449  1999-09-01           Snow Shoes         1   45.00\n",
              "10      10439  1999-09-18                 Tent         1   88.00\n",
              "11      10298  1999-09-19              Lantern         2   29.00\n",
              "12      10410  1999-10-28         Sleeping Bag         1   89.22\n",
              "13      10438  1999-11-01             Umbrella         1    6.75\n",
              "14      10438  1999-11-02               Pillow         1    8.50\n",
              "15      10298  1999-12-01               Helmet         1   22.00\n",
              "16      10449  1999-12-15              Bicycle         1  380.50\n",
              "17      10449  1999-12-22                Canoe         1  280.00\n",
              "18      10101  1999-12-30           Hoola Hoop         3   14.75\n",
              "19      10330  2000-01-01           Flashlight         4   28.00\n",
              "20      10101  2000-01-02              Lantern         1   16.00\n",
              "21      10299  2000-01-18  Inflatable Mattress         1   38.00\n",
              "22      10438  2000-01-18                 Tent         1   79.99\n",
              "23      10413  2000-01-19            Lawnchair         4   32.00\n",
              "24      10410  2000-01-30             Unicycle         1  192.50\n",
              "25      10315  2000-02-02              Compass         1    8.00\n",
              "26      10449  2000-02-29           Flashlight         1    4.50\n",
              "27      10101  2000-03-08         Sleeping Bag         2   88.70\n",
              "28      10298  2000-03-18         Pocket Knife         1   22.38\n",
              "29      10449  2000-03-19         Canoe paddle         2   40.00\n",
              "30      10298  2000-04-01            Ear Muffs         1   12.50\n",
              "31      10330  2000-04-19               Shovel         1   16.75"
            ],
            "text/html": [
              "\n",
              "  <div id=\"df-67f2c0c8-4063-4529-8bb7-35cd328f79f8\">\n",
              "    <div class=\"colab-df-container\">\n",
              "      <div>\n",
              "<style scoped>\n",
              "    .dataframe tbody tr th:only-of-type {\n",
              "        vertical-align: middle;\n",
              "    }\n",
              "\n",
              "    .dataframe tbody tr th {\n",
              "        vertical-align: top;\n",
              "    }\n",
              "\n",
              "    .dataframe thead th {\n",
              "        text-align: right;\n",
              "    }\n",
              "</style>\n",
              "<table border=\"1\" class=\"dataframe\">\n",
              "  <thead>\n",
              "    <tr style=\"text-align: right;\">\n",
              "      <th></th>\n",
              "      <th>customerid</th>\n",
              "      <th>orderdate</th>\n",
              "      <th>item</th>\n",
              "      <th>quantity</th>\n",
              "      <th>price</th>\n",
              "    </tr>\n",
              "  </thead>\n",
              "  <tbody>\n",
              "    <tr>\n",
              "      <th>0</th>\n",
              "      <td>10330</td>\n",
              "      <td>1999-06-30</td>\n",
              "      <td>Pogo stick</td>\n",
              "      <td>1</td>\n",
              "      <td>28.00</td>\n",
              "    </tr>\n",
              "    <tr>\n",
              "      <th>1</th>\n",
              "      <td>10101</td>\n",
              "      <td>1999-06-30</td>\n",
              "      <td>Raft</td>\n",
              "      <td>1</td>\n",
              "      <td>58.00</td>\n",
              "    </tr>\n",
              "    <tr>\n",
              "      <th>2</th>\n",
              "      <td>10298</td>\n",
              "      <td>1999-07-01</td>\n",
              "      <td>Skateboard</td>\n",
              "      <td>1</td>\n",
              "      <td>33.00</td>\n",
              "    </tr>\n",
              "    <tr>\n",
              "      <th>3</th>\n",
              "      <td>10101</td>\n",
              "      <td>1999-07-01</td>\n",
              "      <td>Life Vest</td>\n",
              "      <td>4</td>\n",
              "      <td>125.00</td>\n",
              "    </tr>\n",
              "    <tr>\n",
              "      <th>4</th>\n",
              "      <td>10299</td>\n",
              "      <td>1999-07-06</td>\n",
              "      <td>Parachute</td>\n",
              "      <td>1</td>\n",
              "      <td>999.99</td>\n",
              "    </tr>\n",
              "    <tr>\n",
              "      <th>5</th>\n",
              "      <td>10339</td>\n",
              "      <td>1999-07-27</td>\n",
              "      <td>Umbrella</td>\n",
              "      <td>1</td>\n",
              "      <td>4.50</td>\n",
              "    </tr>\n",
              "    <tr>\n",
              "      <th>6</th>\n",
              "      <td>10449</td>\n",
              "      <td>1999-08-13</td>\n",
              "      <td>Unicycle</td>\n",
              "      <td>1</td>\n",
              "      <td>180.79</td>\n",
              "    </tr>\n",
              "    <tr>\n",
              "      <th>7</th>\n",
              "      <td>10439</td>\n",
              "      <td>1999-08-14</td>\n",
              "      <td>Ski Poles</td>\n",
              "      <td>2</td>\n",
              "      <td>25.50</td>\n",
              "    </tr>\n",
              "    <tr>\n",
              "      <th>8</th>\n",
              "      <td>10101</td>\n",
              "      <td>1999-08-18</td>\n",
              "      <td>Rain Coat</td>\n",
              "      <td>1</td>\n",
              "      <td>18.30</td>\n",
              "    </tr>\n",
              "    <tr>\n",
              "      <th>9</th>\n",
              "      <td>10449</td>\n",
              "      <td>1999-09-01</td>\n",
              "      <td>Snow Shoes</td>\n",
              "      <td>1</td>\n",
              "      <td>45.00</td>\n",
              "    </tr>\n",
              "    <tr>\n",
              "      <th>10</th>\n",
              "      <td>10439</td>\n",
              "      <td>1999-09-18</td>\n",
              "      <td>Tent</td>\n",
              "      <td>1</td>\n",
              "      <td>88.00</td>\n",
              "    </tr>\n",
              "    <tr>\n",
              "      <th>11</th>\n",
              "      <td>10298</td>\n",
              "      <td>1999-09-19</td>\n",
              "      <td>Lantern</td>\n",
              "      <td>2</td>\n",
              "      <td>29.00</td>\n",
              "    </tr>\n",
              "    <tr>\n",
              "      <th>12</th>\n",
              "      <td>10410</td>\n",
              "      <td>1999-10-28</td>\n",
              "      <td>Sleeping Bag</td>\n",
              "      <td>1</td>\n",
              "      <td>89.22</td>\n",
              "    </tr>\n",
              "    <tr>\n",
              "      <th>13</th>\n",
              "      <td>10438</td>\n",
              "      <td>1999-11-01</td>\n",
              "      <td>Umbrella</td>\n",
              "      <td>1</td>\n",
              "      <td>6.75</td>\n",
              "    </tr>\n",
              "    <tr>\n",
              "      <th>14</th>\n",
              "      <td>10438</td>\n",
              "      <td>1999-11-02</td>\n",
              "      <td>Pillow</td>\n",
              "      <td>1</td>\n",
              "      <td>8.50</td>\n",
              "    </tr>\n",
              "    <tr>\n",
              "      <th>15</th>\n",
              "      <td>10298</td>\n",
              "      <td>1999-12-01</td>\n",
              "      <td>Helmet</td>\n",
              "      <td>1</td>\n",
              "      <td>22.00</td>\n",
              "    </tr>\n",
              "    <tr>\n",
              "      <th>16</th>\n",
              "      <td>10449</td>\n",
              "      <td>1999-12-15</td>\n",
              "      <td>Bicycle</td>\n",
              "      <td>1</td>\n",
              "      <td>380.50</td>\n",
              "    </tr>\n",
              "    <tr>\n",
              "      <th>17</th>\n",
              "      <td>10449</td>\n",
              "      <td>1999-12-22</td>\n",
              "      <td>Canoe</td>\n",
              "      <td>1</td>\n",
              "      <td>280.00</td>\n",
              "    </tr>\n",
              "    <tr>\n",
              "      <th>18</th>\n",
              "      <td>10101</td>\n",
              "      <td>1999-12-30</td>\n",
              "      <td>Hoola Hoop</td>\n",
              "      <td>3</td>\n",
              "      <td>14.75</td>\n",
              "    </tr>\n",
              "    <tr>\n",
              "      <th>19</th>\n",
              "      <td>10330</td>\n",
              "      <td>2000-01-01</td>\n",
              "      <td>Flashlight</td>\n",
              "      <td>4</td>\n",
              "      <td>28.00</td>\n",
              "    </tr>\n",
              "    <tr>\n",
              "      <th>20</th>\n",
              "      <td>10101</td>\n",
              "      <td>2000-01-02</td>\n",
              "      <td>Lantern</td>\n",
              "      <td>1</td>\n",
              "      <td>16.00</td>\n",
              "    </tr>\n",
              "    <tr>\n",
              "      <th>21</th>\n",
              "      <td>10299</td>\n",
              "      <td>2000-01-18</td>\n",
              "      <td>Inflatable Mattress</td>\n",
              "      <td>1</td>\n",
              "      <td>38.00</td>\n",
              "    </tr>\n",
              "    <tr>\n",
              "      <th>22</th>\n",
              "      <td>10438</td>\n",
              "      <td>2000-01-18</td>\n",
              "      <td>Tent</td>\n",
              "      <td>1</td>\n",
              "      <td>79.99</td>\n",
              "    </tr>\n",
              "    <tr>\n",
              "      <th>23</th>\n",
              "      <td>10413</td>\n",
              "      <td>2000-01-19</td>\n",
              "      <td>Lawnchair</td>\n",
              "      <td>4</td>\n",
              "      <td>32.00</td>\n",
              "    </tr>\n",
              "    <tr>\n",
              "      <th>24</th>\n",
              "      <td>10410</td>\n",
              "      <td>2000-01-30</td>\n",
              "      <td>Unicycle</td>\n",
              "      <td>1</td>\n",
              "      <td>192.50</td>\n",
              "    </tr>\n",
              "    <tr>\n",
              "      <th>25</th>\n",
              "      <td>10315</td>\n",
              "      <td>2000-02-02</td>\n",
              "      <td>Compass</td>\n",
              "      <td>1</td>\n",
              "      <td>8.00</td>\n",
              "    </tr>\n",
              "    <tr>\n",
              "      <th>26</th>\n",
              "      <td>10449</td>\n",
              "      <td>2000-02-29</td>\n",
              "      <td>Flashlight</td>\n",
              "      <td>1</td>\n",
              "      <td>4.50</td>\n",
              "    </tr>\n",
              "    <tr>\n",
              "      <th>27</th>\n",
              "      <td>10101</td>\n",
              "      <td>2000-03-08</td>\n",
              "      <td>Sleeping Bag</td>\n",
              "      <td>2</td>\n",
              "      <td>88.70</td>\n",
              "    </tr>\n",
              "    <tr>\n",
              "      <th>28</th>\n",
              "      <td>10298</td>\n",
              "      <td>2000-03-18</td>\n",
              "      <td>Pocket Knife</td>\n",
              "      <td>1</td>\n",
              "      <td>22.38</td>\n",
              "    </tr>\n",
              "    <tr>\n",
              "      <th>29</th>\n",
              "      <td>10449</td>\n",
              "      <td>2000-03-19</td>\n",
              "      <td>Canoe paddle</td>\n",
              "      <td>2</td>\n",
              "      <td>40.00</td>\n",
              "    </tr>\n",
              "    <tr>\n",
              "      <th>30</th>\n",
              "      <td>10298</td>\n",
              "      <td>2000-04-01</td>\n",
              "      <td>Ear Muffs</td>\n",
              "      <td>1</td>\n",
              "      <td>12.50</td>\n",
              "    </tr>\n",
              "    <tr>\n",
              "      <th>31</th>\n",
              "      <td>10330</td>\n",
              "      <td>2000-04-19</td>\n",
              "      <td>Shovel</td>\n",
              "      <td>1</td>\n",
              "      <td>16.75</td>\n",
              "    </tr>\n",
              "  </tbody>\n",
              "</table>\n",
              "</div>\n",
              "      <button class=\"colab-df-convert\" onclick=\"convertToInteractive('df-67f2c0c8-4063-4529-8bb7-35cd328f79f8')\"\n",
              "              title=\"Convert this dataframe to an interactive table.\"\n",
              "              style=\"display:none;\">\n",
              "        \n",
              "  <svg xmlns=\"http://www.w3.org/2000/svg\" height=\"24px\"viewBox=\"0 0 24 24\"\n",
              "       width=\"24px\">\n",
              "    <path d=\"M0 0h24v24H0V0z\" fill=\"none\"/>\n",
              "    <path d=\"M18.56 5.44l.94 2.06.94-2.06 2.06-.94-2.06-.94-.94-2.06-.94 2.06-2.06.94zm-11 1L8.5 8.5l.94-2.06 2.06-.94-2.06-.94L8.5 2.5l-.94 2.06-2.06.94zm10 10l.94 2.06.94-2.06 2.06-.94-2.06-.94-.94-2.06-.94 2.06-2.06.94z\"/><path d=\"M17.41 7.96l-1.37-1.37c-.4-.4-.92-.59-1.43-.59-.52 0-1.04.2-1.43.59L10.3 9.45l-7.72 7.72c-.78.78-.78 2.05 0 2.83L4 21.41c.39.39.9.59 1.41.59.51 0 1.02-.2 1.41-.59l7.78-7.78 2.81-2.81c.8-.78.8-2.07 0-2.86zM5.41 20L4 18.59l7.72-7.72 1.47 1.35L5.41 20z\"/>\n",
              "  </svg>\n",
              "      </button>\n",
              "      \n",
              "  <style>\n",
              "    .colab-df-container {\n",
              "      display:flex;\n",
              "      flex-wrap:wrap;\n",
              "      gap: 12px;\n",
              "    }\n",
              "\n",
              "    .colab-df-convert {\n",
              "      background-color: #E8F0FE;\n",
              "      border: none;\n",
              "      border-radius: 50%;\n",
              "      cursor: pointer;\n",
              "      display: none;\n",
              "      fill: #1967D2;\n",
              "      height: 32px;\n",
              "      padding: 0 0 0 0;\n",
              "      width: 32px;\n",
              "    }\n",
              "\n",
              "    .colab-df-convert:hover {\n",
              "      background-color: #E2EBFA;\n",
              "      box-shadow: 0px 1px 2px rgba(60, 64, 67, 0.3), 0px 1px 3px 1px rgba(60, 64, 67, 0.15);\n",
              "      fill: #174EA6;\n",
              "    }\n",
              "\n",
              "    [theme=dark] .colab-df-convert {\n",
              "      background-color: #3B4455;\n",
              "      fill: #D2E3FC;\n",
              "    }\n",
              "\n",
              "    [theme=dark] .colab-df-convert:hover {\n",
              "      background-color: #434B5C;\n",
              "      box-shadow: 0px 1px 3px 1px rgba(0, 0, 0, 0.15);\n",
              "      filter: drop-shadow(0px 1px 2px rgba(0, 0, 0, 0.3));\n",
              "      fill: #FFFFFF;\n",
              "    }\n",
              "  </style>\n",
              "\n",
              "      <script>\n",
              "        const buttonEl =\n",
              "          document.querySelector('#df-67f2c0c8-4063-4529-8bb7-35cd328f79f8 button.colab-df-convert');\n",
              "        buttonEl.style.display =\n",
              "          google.colab.kernel.accessAllowed ? 'block' : 'none';\n",
              "\n",
              "        async function convertToInteractive(key) {\n",
              "          const element = document.querySelector('#df-67f2c0c8-4063-4529-8bb7-35cd328f79f8');\n",
              "          const dataTable =\n",
              "            await google.colab.kernel.invokeFunction('convertToInteractive',\n",
              "                                                     [key], {});\n",
              "          if (!dataTable) return;\n",
              "\n",
              "          const docLinkHtml = 'Like what you see? Visit the ' +\n",
              "            '<a target=\"_blank\" href=https://colab.research.google.com/notebooks/data_table.ipynb>data table notebook</a>'\n",
              "            + ' to learn more about interactive tables.';\n",
              "          element.innerHTML = '';\n",
              "          dataTable['output_type'] = 'display_data';\n",
              "          await google.colab.output.renderOutput(dataTable, element);\n",
              "          const docLink = document.createElement('div');\n",
              "          docLink.innerHTML = docLinkHtml;\n",
              "          element.appendChild(docLink);\n",
              "        }\n",
              "      </script>\n",
              "    </div>\n",
              "  </div>\n",
              "  "
            ]
          },
          "metadata": {},
          "execution_count": 179
        }
      ],
      "source": [
        "\n",
        "runSELECT(location,'select * from itemsordered')"
      ]
    },
    {
      "cell_type": "code",
      "execution_count": null,
      "metadata": {
        "colab": {
          "base_uri": "https://localhost:8080/"
        },
        "id": "4hxJwU7eyyDR",
        "outputId": "791a0b9f-5806-42fb-d1bc-2878ee8e280d"
      },
      "outputs": [
        {
          "output_type": "stream",
          "name": "stdout",
          "text": [
            "+------------+----------+-------+\n",
            "| customerid | item     | price |\n",
            "+------------+----------+-------+\n",
            "| 10438      | Umbrella |  6.75 |\n",
            "| 10438      | Pillow   |  8.50 |\n",
            "| 10438      | Tent     | 79.99 |\n",
            "+------------+----------+-------+\n"
          ]
        }
      ],
      "source": [
        "!mysql praxisDB -e 'SELECT customerid, item, price FROM itemsordered WHERE customerid=10438;'"
      ]
    },
    {
      "cell_type": "code",
      "execution_count": null,
      "metadata": {
        "colab": {
          "base_uri": "https://localhost:8080/"
        },
        "id": "Nx159SKz0mAF",
        "outputId": "e5aa0cd9-a2d7-42f0-e6d6-bc1622bf2990"
      },
      "outputs": [
        {
          "output_type": "stream",
          "name": "stdout",
          "text": [
            "+------------+------------+-----------+----------+-------+\n",
            "| customerid | orderdate  | item      | quantity | price |\n",
            "+------------+------------+-----------+----------+-------+\n",
            "| 10298      | 2000-04-01 | Ear Muffs |        1 | 12.50 |\n",
            "+------------+------------+-----------+----------+-------+\n"
          ]
        }
      ],
      "source": [
        "!mysql praxisDB -e 'SELECT * FROM itemsordered WHERE item = \"Ear Muffs\";'\n",
        "\n"
      ]
    },
    {
      "cell_type": "code",
      "execution_count": null,
      "metadata": {
        "colab": {
          "base_uri": "https://localhost:8080/"
        },
        "id": "yRFoiuHN49nL",
        "outputId": "e47d3770-7ba9-4c77-c98b-b828e2d0cb90"
      },
      "outputs": [
        {
          "output_type": "stream",
          "name": "stdout",
          "text": [
            "+---------------------+\n",
            "| item                |\n",
            "+---------------------+\n",
            "| Pogo stick          |\n",
            "| Raft                |\n",
            "| Skateboard          |\n",
            "| Life Vest           |\n",
            "| Parachute           |\n",
            "| Umbrella            |\n",
            "| Unicycle            |\n",
            "| Ski Poles           |\n",
            "| Rain Coat           |\n",
            "| Snow Shoes          |\n",
            "| Tent                |\n",
            "| Lantern             |\n",
            "| Sleeping Bag        |\n",
            "| Pillow              |\n",
            "| Helmet              |\n",
            "| Bicycle             |\n",
            "| Canoe               |\n",
            "| Hoola Hoop          |\n",
            "| Flashlight          |\n",
            "| Inflatable Mattress |\n",
            "| Lawnchair           |\n",
            "| Compass             |\n",
            "| Pocket Knife        |\n",
            "| Canoe paddle        |\n",
            "| Ear Muffs           |\n",
            "| Shovel              |\n",
            "+---------------------+\n"
          ]
        }
      ],
      "source": [
        "!mysql praxisDB -e 'SELECT DISTINCT item FROM itemsordered;'"
      ]
    },
    {
      "cell_type": "code",
      "execution_count": null,
      "metadata": {
        "colab": {
          "base_uri": "https://localhost:8080/"
        },
        "id": "tJFaBalB0jWi",
        "outputId": "1b424a2c-8684-423e-b8c7-208e6553b215"
      },
      "outputs": [
        {
          "output_type": "stream",
          "name": "stdout",
          "text": [
            "+------------+------------+--------------+-------+\n",
            "| customerid | orderdate  | item         | price |\n",
            "+------------+------------+--------------+-------+\n",
            "| 10298      | 1999-07-01 | Skateboard   | 33.00 |\n",
            "| 10439      | 1999-08-14 | Ski Poles    | 25.50 |\n",
            "| 10449      | 1999-09-01 | Snow Shoes   | 45.00 |\n",
            "| 10410      | 1999-10-28 | Sleeping Bag | 89.22 |\n",
            "| 10101      | 2000-03-08 | Sleeping Bag | 88.70 |\n",
            "| 10330      | 2000-04-19 | Shovel       | 16.75 |\n",
            "+------------+------------+--------------+-------+\n"
          ]
        }
      ],
      "source": [
        "!mysql praxisDB -e 'SELECT customerid, orderdate,item,price From itemsordered Where item Like \"S%\";'"
      ]
    },
    {
      "cell_type": "code",
      "execution_count": null,
      "metadata": {
        "colab": {
          "base_uri": "https://localhost:8080/"
        },
        "id": "AqibvaC_-Bo2",
        "outputId": "659faa75-6303-4fd5-94af-ff8a53ad7dfb"
      },
      "outputs": [
        {
          "output_type": "stream",
          "name": "stdout",
          "text": [
            "+------------+\n",
            "| Max(price) |\n",
            "+------------+\n",
            "|     999.99 |\n",
            "+------------+\n"
          ]
        }
      ],
      "source": [
        "!mysql praxisDB -e 'SELECT Max(price) From itemsordered'\n"
      ]
    },
    {
      "cell_type": "code",
      "source": [
        "!mysql praxisDB -e 'SELECT Avg(Price) From itemsordered Where orderdate Like \"2000-04-19\"'"
      ],
      "metadata": {
        "colab": {
          "base_uri": "https://localhost:8080/"
        },
        "id": "KfDg_Q5Ele5n",
        "outputId": "d717da3f-dcfe-47b3-8011-a749790dcef6"
      },
      "execution_count": null,
      "outputs": [
        {
          "output_type": "stream",
          "name": "stdout",
          "text": [
            "+------------+\n",
            "| Avg(Price) |\n",
            "+------------+\n",
            "|  16.750000 |\n",
            "+------------+\n"
          ]
        }
      ]
    },
    {
      "cell_type": "code",
      "source": [
        "!mysql praxisDB -e 'SELECT count(*) From itemsordered'"
      ],
      "metadata": {
        "colab": {
          "base_uri": "https://localhost:8080/"
        },
        "id": "vAU9l574mGh5",
        "outputId": "2a015253-208a-4f6f-de1e-654c4a693163"
      },
      "execution_count": null,
      "outputs": [
        {
          "output_type": "stream",
          "name": "stdout",
          "text": [
            "+----------+\n",
            "| count(*) |\n",
            "+----------+\n",
            "|       32 |\n",
            "+----------+\n"
          ]
        }
      ]
    },
    {
      "cell_type": "code",
      "source": [
        "!mysql praxisDB -e 'SELECT MIN(price) From itemsordered Where item=\"Tent\"'"
      ],
      "metadata": {
        "colab": {
          "base_uri": "https://localhost:8080/"
        },
        "id": "4DsqO4crmWK-",
        "outputId": "d2286d87-4480-4260-8500-c879cd6d3905"
      },
      "execution_count": null,
      "outputs": [
        {
          "output_type": "stream",
          "name": "stdout",
          "text": [
            "+------------+\n",
            "| MIN(price) |\n",
            "+------------+\n",
            "|      79.99 |\n",
            "+------------+\n"
          ]
        }
      ]
    },
    {
      "cell_type": "markdown",
      "source": [
        "GROUP BY STATEMENT"
      ],
      "metadata": {
        "id": "aRoYqSMjUgqq"
      }
    },
    {
      "cell_type": "code",
      "source": [
        "!mysql praxisDB -e 'SELECT item,MAX(price),MIN(price) From itemsordered GROUP BY item'"
      ],
      "metadata": {
        "colab": {
          "base_uri": "https://localhost:8080/"
        },
        "id": "p2L0oM6uCWg3",
        "outputId": "9e4fb6d3-1cca-49d0-b5f2-59266fb88465"
      },
      "execution_count": null,
      "outputs": [
        {
          "output_type": "stream",
          "name": "stdout",
          "text": [
            "+---------------------+------------+------------+\n",
            "| item                | MAX(price) | MIN(price) |\n",
            "+---------------------+------------+------------+\n",
            "| Bicycle             |     380.50 |     380.50 |\n",
            "| Canoe               |     280.00 |     280.00 |\n",
            "| Canoe paddle        |      40.00 |      40.00 |\n",
            "| Compass             |       8.00 |       8.00 |\n",
            "| Ear Muffs           |      12.50 |      12.50 |\n",
            "| Flashlight          |      28.00 |       4.50 |\n",
            "| Helmet              |      22.00 |      22.00 |\n",
            "| Hoola Hoop          |      14.75 |      14.75 |\n",
            "| Inflatable Mattress |      38.00 |      38.00 |\n",
            "| Lantern             |      29.00 |      16.00 |\n",
            "| Lawnchair           |      32.00 |      32.00 |\n",
            "| Life Vest           |     125.00 |     125.00 |\n",
            "| Parachute           |     999.99 |     999.99 |\n",
            "| Pillow              |       8.50 |       8.50 |\n",
            "| Pocket Knife        |      22.38 |      22.38 |\n",
            "| Pogo stick          |      28.00 |      28.00 |\n",
            "| Raft                |      58.00 |      58.00 |\n",
            "| Rain Coat           |      18.30 |      18.30 |\n",
            "| Shovel              |      16.75 |      16.75 |\n",
            "| Skateboard          |      33.00 |      33.00 |\n",
            "| Ski Poles           |      25.50 |      25.50 |\n",
            "| Sleeping Bag        |      89.22 |      88.70 |\n",
            "| Snow Shoes          |      45.00 |      45.00 |\n",
            "| Tent                |      88.00 |      79.99 |\n",
            "| Umbrella            |       6.75 |       4.50 |\n",
            "| Unicycle            |     192.50 |     180.79 |\n",
            "+---------------------+------------+------------+\n"
          ]
        }
      ]
    },
    {
      "cell_type": "code",
      "source": [
        "!mysql praxisDB -e 'Select customerid,Count(item),Sum(price) From itemsordered Group by customerid'"
      ],
      "metadata": {
        "colab": {
          "base_uri": "https://localhost:8080/"
        },
        "id": "sNbCtTzXDtSj",
        "outputId": "0cbd19a0-fdf8-4d5c-b350-9646e564a61f"
      },
      "execution_count": null,
      "outputs": [
        {
          "output_type": "stream",
          "name": "stdout",
          "text": [
            "+------------+-------------+------------+\n",
            "| customerid | Count(item) | Sum(price) |\n",
            "+------------+-------------+------------+\n",
            "| 10101      |           6 |     320.75 |\n",
            "| 10298      |           5 |     118.88 |\n",
            "| 10299      |           2 |    1037.99 |\n",
            "| 10315      |           1 |       8.00 |\n",
            "| 10330      |           3 |      72.75 |\n",
            "| 10339      |           1 |       4.50 |\n",
            "| 10410      |           2 |     281.72 |\n",
            "| 10413      |           1 |      32.00 |\n",
            "| 10438      |           3 |      95.24 |\n",
            "| 10439      |           2 |     113.50 |\n",
            "| 10449      |           6 |     930.79 |\n",
            "+------------+-------------+------------+\n"
          ]
        }
      ]
    },
    {
      "cell_type": "code",
      "source": [
        "!mysql praxisDB -e 'Select State, Count(State) From customers Group By State'"
      ],
      "metadata": {
        "colab": {
          "base_uri": "https://localhost:8080/"
        },
        "id": "pxdS_1ocFyI6",
        "outputId": "ff934e94-ccba-4ed9-e7dd-0bc3c73c9b1c"
      },
      "execution_count": null,
      "outputs": [
        {
          "output_type": "stream",
          "name": "stdout",
          "text": [
            "+----------------+--------------+\n",
            "| State          | Count(State) |\n",
            "+----------------+--------------+\n",
            "| Arizona        |            6 |\n",
            "| Colorado       |            2 |\n",
            "| Hawaii         |            1 |\n",
            "| Idaho          |            1 |\n",
            "| North Carolina |            1 |\n",
            "| Oregon         |            2 |\n",
            "| South Carolina |            1 |\n",
            "| Washington     |            2 |\n",
            "| Wisconsin      |            1 |\n",
            "+----------------+--------------+\n"
          ]
        }
      ]
    },
    {
      "cell_type": "markdown",
      "source": [
        "\n",
        "\n",
        "---HAVING CLAUSE\n",
        "\n"
      ],
      "metadata": {
        "id": "XCK5UlS_BUl2"
      }
    },
    {
      "cell_type": "code",
      "execution_count": null,
      "metadata": {
        "colab": {
          "base_uri": "https://localhost:8080/",
          "height": 582
        },
        "id": "7J-l7p6wyjqz",
        "outputId": "208da0a4-4f47-4ad7-a2e5-5959dae2575e"
      },
      "outputs": [
        {
          "output_type": "execute_result",
          "data": {
            "text/plain": [
              "   customerid firstname  lastname          city           state\n",
              "0       10101      John      Gray        Lynden      Washington\n",
              "1       10298     Leroy     Brown       Pinetop         Arizona\n",
              "2       10299     Elroy    Keller    Snoqualmie      Washington\n",
              "3       10315      Lisa     Jones       Oshkosh       Wisconsin\n",
              "4       10325    Ginger   Schultz     Pocatello           Idaho\n",
              "5       10329     Kelly   Mendoza        Kailua          Hawaii\n",
              "6       10330     Shawn    Dalton  Cannon Beach          Oregon\n",
              "7       10338   Michael    Howell     Tillamook          Oregon\n",
              "8       10339   Anthony   Sanchez       Winslow         Arizona\n",
              "9       10408     Elroy   Cleaver         Globe         Arizona\n",
              "10      10410  Mary Ann    Howell    Charleston  South Carolina\n",
              "11      10413    Donald    Davids     Gila Bend         Arizona\n",
              "12      10419     Linda  Sakahara       Nogales         Arizona\n",
              "13      10429     Sarah    Graham    Greensboro  North Carolina\n",
              "14      10438     Kevin     Smith       Durango        Colorado\n",
              "15      10439    Conrad     Giles     Telluride        Colorado\n",
              "16      10449   Isabela     Moore          Yuma         Arizona"
            ],
            "text/html": [
              "\n",
              "  <div id=\"df-1b8022ed-0f5c-42b3-b6fd-dd25ecfde1f8\">\n",
              "    <div class=\"colab-df-container\">\n",
              "      <div>\n",
              "<style scoped>\n",
              "    .dataframe tbody tr th:only-of-type {\n",
              "        vertical-align: middle;\n",
              "    }\n",
              "\n",
              "    .dataframe tbody tr th {\n",
              "        vertical-align: top;\n",
              "    }\n",
              "\n",
              "    .dataframe thead th {\n",
              "        text-align: right;\n",
              "    }\n",
              "</style>\n",
              "<table border=\"1\" class=\"dataframe\">\n",
              "  <thead>\n",
              "    <tr style=\"text-align: right;\">\n",
              "      <th></th>\n",
              "      <th>customerid</th>\n",
              "      <th>firstname</th>\n",
              "      <th>lastname</th>\n",
              "      <th>city</th>\n",
              "      <th>state</th>\n",
              "    </tr>\n",
              "  </thead>\n",
              "  <tbody>\n",
              "    <tr>\n",
              "      <th>0</th>\n",
              "      <td>10101</td>\n",
              "      <td>John</td>\n",
              "      <td>Gray</td>\n",
              "      <td>Lynden</td>\n",
              "      <td>Washington</td>\n",
              "    </tr>\n",
              "    <tr>\n",
              "      <th>1</th>\n",
              "      <td>10298</td>\n",
              "      <td>Leroy</td>\n",
              "      <td>Brown</td>\n",
              "      <td>Pinetop</td>\n",
              "      <td>Arizona</td>\n",
              "    </tr>\n",
              "    <tr>\n",
              "      <th>2</th>\n",
              "      <td>10299</td>\n",
              "      <td>Elroy</td>\n",
              "      <td>Keller</td>\n",
              "      <td>Snoqualmie</td>\n",
              "      <td>Washington</td>\n",
              "    </tr>\n",
              "    <tr>\n",
              "      <th>3</th>\n",
              "      <td>10315</td>\n",
              "      <td>Lisa</td>\n",
              "      <td>Jones</td>\n",
              "      <td>Oshkosh</td>\n",
              "      <td>Wisconsin</td>\n",
              "    </tr>\n",
              "    <tr>\n",
              "      <th>4</th>\n",
              "      <td>10325</td>\n",
              "      <td>Ginger</td>\n",
              "      <td>Schultz</td>\n",
              "      <td>Pocatello</td>\n",
              "      <td>Idaho</td>\n",
              "    </tr>\n",
              "    <tr>\n",
              "      <th>5</th>\n",
              "      <td>10329</td>\n",
              "      <td>Kelly</td>\n",
              "      <td>Mendoza</td>\n",
              "      <td>Kailua</td>\n",
              "      <td>Hawaii</td>\n",
              "    </tr>\n",
              "    <tr>\n",
              "      <th>6</th>\n",
              "      <td>10330</td>\n",
              "      <td>Shawn</td>\n",
              "      <td>Dalton</td>\n",
              "      <td>Cannon Beach</td>\n",
              "      <td>Oregon</td>\n",
              "    </tr>\n",
              "    <tr>\n",
              "      <th>7</th>\n",
              "      <td>10338</td>\n",
              "      <td>Michael</td>\n",
              "      <td>Howell</td>\n",
              "      <td>Tillamook</td>\n",
              "      <td>Oregon</td>\n",
              "    </tr>\n",
              "    <tr>\n",
              "      <th>8</th>\n",
              "      <td>10339</td>\n",
              "      <td>Anthony</td>\n",
              "      <td>Sanchez</td>\n",
              "      <td>Winslow</td>\n",
              "      <td>Arizona</td>\n",
              "    </tr>\n",
              "    <tr>\n",
              "      <th>9</th>\n",
              "      <td>10408</td>\n",
              "      <td>Elroy</td>\n",
              "      <td>Cleaver</td>\n",
              "      <td>Globe</td>\n",
              "      <td>Arizona</td>\n",
              "    </tr>\n",
              "    <tr>\n",
              "      <th>10</th>\n",
              "      <td>10410</td>\n",
              "      <td>Mary Ann</td>\n",
              "      <td>Howell</td>\n",
              "      <td>Charleston</td>\n",
              "      <td>South Carolina</td>\n",
              "    </tr>\n",
              "    <tr>\n",
              "      <th>11</th>\n",
              "      <td>10413</td>\n",
              "      <td>Donald</td>\n",
              "      <td>Davids</td>\n",
              "      <td>Gila Bend</td>\n",
              "      <td>Arizona</td>\n",
              "    </tr>\n",
              "    <tr>\n",
              "      <th>12</th>\n",
              "      <td>10419</td>\n",
              "      <td>Linda</td>\n",
              "      <td>Sakahara</td>\n",
              "      <td>Nogales</td>\n",
              "      <td>Arizona</td>\n",
              "    </tr>\n",
              "    <tr>\n",
              "      <th>13</th>\n",
              "      <td>10429</td>\n",
              "      <td>Sarah</td>\n",
              "      <td>Graham</td>\n",
              "      <td>Greensboro</td>\n",
              "      <td>North Carolina</td>\n",
              "    </tr>\n",
              "    <tr>\n",
              "      <th>14</th>\n",
              "      <td>10438</td>\n",
              "      <td>Kevin</td>\n",
              "      <td>Smith</td>\n",
              "      <td>Durango</td>\n",
              "      <td>Colorado</td>\n",
              "    </tr>\n",
              "    <tr>\n",
              "      <th>15</th>\n",
              "      <td>10439</td>\n",
              "      <td>Conrad</td>\n",
              "      <td>Giles</td>\n",
              "      <td>Telluride</td>\n",
              "      <td>Colorado</td>\n",
              "    </tr>\n",
              "    <tr>\n",
              "      <th>16</th>\n",
              "      <td>10449</td>\n",
              "      <td>Isabela</td>\n",
              "      <td>Moore</td>\n",
              "      <td>Yuma</td>\n",
              "      <td>Arizona</td>\n",
              "    </tr>\n",
              "  </tbody>\n",
              "</table>\n",
              "</div>\n",
              "      <button class=\"colab-df-convert\" onclick=\"convertToInteractive('df-1b8022ed-0f5c-42b3-b6fd-dd25ecfde1f8')\"\n",
              "              title=\"Convert this dataframe to an interactive table.\"\n",
              "              style=\"display:none;\">\n",
              "        \n",
              "  <svg xmlns=\"http://www.w3.org/2000/svg\" height=\"24px\"viewBox=\"0 0 24 24\"\n",
              "       width=\"24px\">\n",
              "    <path d=\"M0 0h24v24H0V0z\" fill=\"none\"/>\n",
              "    <path d=\"M18.56 5.44l.94 2.06.94-2.06 2.06-.94-2.06-.94-.94-2.06-.94 2.06-2.06.94zm-11 1L8.5 8.5l.94-2.06 2.06-.94-2.06-.94L8.5 2.5l-.94 2.06-2.06.94zm10 10l.94 2.06.94-2.06 2.06-.94-2.06-.94-.94-2.06-.94 2.06-2.06.94z\"/><path d=\"M17.41 7.96l-1.37-1.37c-.4-.4-.92-.59-1.43-.59-.52 0-1.04.2-1.43.59L10.3 9.45l-7.72 7.72c-.78.78-.78 2.05 0 2.83L4 21.41c.39.39.9.59 1.41.59.51 0 1.02-.2 1.41-.59l7.78-7.78 2.81-2.81c.8-.78.8-2.07 0-2.86zM5.41 20L4 18.59l7.72-7.72 1.47 1.35L5.41 20z\"/>\n",
              "  </svg>\n",
              "      </button>\n",
              "      \n",
              "  <style>\n",
              "    .colab-df-container {\n",
              "      display:flex;\n",
              "      flex-wrap:wrap;\n",
              "      gap: 12px;\n",
              "    }\n",
              "\n",
              "    .colab-df-convert {\n",
              "      background-color: #E8F0FE;\n",
              "      border: none;\n",
              "      border-radius: 50%;\n",
              "      cursor: pointer;\n",
              "      display: none;\n",
              "      fill: #1967D2;\n",
              "      height: 32px;\n",
              "      padding: 0 0 0 0;\n",
              "      width: 32px;\n",
              "    }\n",
              "\n",
              "    .colab-df-convert:hover {\n",
              "      background-color: #E2EBFA;\n",
              "      box-shadow: 0px 1px 2px rgba(60, 64, 67, 0.3), 0px 1px 3px 1px rgba(60, 64, 67, 0.15);\n",
              "      fill: #174EA6;\n",
              "    }\n",
              "\n",
              "    [theme=dark] .colab-df-convert {\n",
              "      background-color: #3B4455;\n",
              "      fill: #D2E3FC;\n",
              "    }\n",
              "\n",
              "    [theme=dark] .colab-df-convert:hover {\n",
              "      background-color: #434B5C;\n",
              "      box-shadow: 0px 1px 3px 1px rgba(0, 0, 0, 0.15);\n",
              "      filter: drop-shadow(0px 1px 2px rgba(0, 0, 0, 0.3));\n",
              "      fill: #FFFFFF;\n",
              "    }\n",
              "  </style>\n",
              "\n",
              "      <script>\n",
              "        const buttonEl =\n",
              "          document.querySelector('#df-1b8022ed-0f5c-42b3-b6fd-dd25ecfde1f8 button.colab-df-convert');\n",
              "        buttonEl.style.display =\n",
              "          google.colab.kernel.accessAllowed ? 'block' : 'none';\n",
              "\n",
              "        async function convertToInteractive(key) {\n",
              "          const element = document.querySelector('#df-1b8022ed-0f5c-42b3-b6fd-dd25ecfde1f8');\n",
              "          const dataTable =\n",
              "            await google.colab.kernel.invokeFunction('convertToInteractive',\n",
              "                                                     [key], {});\n",
              "          if (!dataTable) return;\n",
              "\n",
              "          const docLinkHtml = 'Like what you see? Visit the ' +\n",
              "            '<a target=\"_blank\" href=https://colab.research.google.com/notebooks/data_table.ipynb>data table notebook</a>'\n",
              "            + ' to learn more about interactive tables.';\n",
              "          element.innerHTML = '';\n",
              "          dataTable['output_type'] = 'display_data';\n",
              "          await google.colab.output.renderOutput(dataTable, element);\n",
              "          const docLink = document.createElement('div');\n",
              "          docLink.innerHTML = docLinkHtml;\n",
              "          element.appendChild(docLink);\n",
              "        }\n",
              "      </script>\n",
              "    </div>\n",
              "  </div>\n",
              "  "
            ]
          },
          "metadata": {},
          "execution_count": 85
        }
      ],
      "source": [
        "runSELECT(location,'select * from customers')\n"
      ]
    },
    {
      "cell_type": "code",
      "source": [
        "!mysql praxisDB -e 'Select State, Count(State) From customers Group By State Having Count(State)>1'"
      ],
      "metadata": {
        "colab": {
          "base_uri": "https://localhost:8080/"
        },
        "id": "WySLsmcnCC0w",
        "outputId": "ecf3608e-1d91-438d-9b07-407ea760b72c"
      },
      "execution_count": null,
      "outputs": [
        {
          "output_type": "stream",
          "name": "stdout",
          "text": [
            "+------------+--------------+\n",
            "| State      | Count(State) |\n",
            "+------------+--------------+\n",
            "| Arizona    |            6 |\n",
            "| Colorado   |            2 |\n",
            "| Oregon     |            2 |\n",
            "| Washington |            2 |\n",
            "+------------+--------------+\n"
          ]
        }
      ]
    },
    {
      "cell_type": "code",
      "source": [
        "!mysql praxisDB -e 'Select * From itemsordered'"
      ],
      "metadata": {
        "colab": {
          "base_uri": "https://localhost:8080/"
        },
        "id": "xCQa4ompB35g",
        "outputId": "bae7e418-30d2-46b2-e147-fdc7db4dc5e6"
      },
      "execution_count": null,
      "outputs": [
        {
          "output_type": "stream",
          "name": "stdout",
          "text": [
            "+------------+------------+---------------------+----------+--------+\n",
            "| customerid | orderdate  | item                | quantity | price  |\n",
            "+------------+------------+---------------------+----------+--------+\n",
            "| 10330      | 1999-06-30 | Pogo stick          |        1 |  28.00 |\n",
            "| 10101      | 1999-06-30 | Raft                |        1 |  58.00 |\n",
            "| 10298      | 1999-07-01 | Skateboard          |        1 |  33.00 |\n",
            "| 10101      | 1999-07-01 | Life Vest           |        4 | 125.00 |\n",
            "| 10299      | 1999-07-06 | Parachute           |        1 | 999.99 |\n",
            "| 10339      | 1999-07-27 | Umbrella            |        1 |   4.50 |\n",
            "| 10449      | 1999-08-13 | Unicycle            |        1 | 180.79 |\n",
            "| 10439      | 1999-08-14 | Ski Poles           |        2 |  25.50 |\n",
            "| 10101      | 1999-08-18 | Rain Coat           |        1 |  18.30 |\n",
            "| 10449      | 1999-09-01 | Snow Shoes          |        1 |  45.00 |\n",
            "| 10439      | 1999-09-18 | Tent                |        1 |  88.00 |\n",
            "| 10298      | 1999-09-19 | Lantern             |        2 |  29.00 |\n",
            "| 10410      | 1999-10-28 | Sleeping Bag        |        1 |  89.22 |\n",
            "| 10438      | 1999-11-01 | Umbrella            |        1 |   6.75 |\n",
            "| 10438      | 1999-11-02 | Pillow              |        1 |   8.50 |\n",
            "| 10298      | 1999-12-01 | Helmet              |        1 |  22.00 |\n",
            "| 10449      | 1999-12-15 | Bicycle             |        1 | 380.50 |\n",
            "| 10449      | 1999-12-22 | Canoe               |        1 | 280.00 |\n",
            "| 10101      | 1999-12-30 | Hoola Hoop          |        3 |  14.75 |\n",
            "| 10330      | 2000-01-01 | Flashlight          |        4 |  28.00 |\n",
            "| 10101      | 2000-01-02 | Lantern             |        1 |  16.00 |\n",
            "| 10299      | 2000-01-18 | Inflatable Mattress |        1 |  38.00 |\n",
            "| 10438      | 2000-01-18 | Tent                |        1 |  79.99 |\n",
            "| 10413      | 2000-01-19 | Lawnchair           |        4 |  32.00 |\n",
            "| 10410      | 2000-01-30 | Unicycle            |        1 | 192.50 |\n",
            "| 10315      | 2000-02-02 | Compass             |        1 |   8.00 |\n",
            "| 10449      | 2000-02-29 | Flashlight          |        1 |   4.50 |\n",
            "| 10101      | 2000-03-08 | Sleeping Bag        |        2 |  88.70 |\n",
            "| 10298      | 2000-03-18 | Pocket Knife        |        1 |  22.38 |\n",
            "| 10449      | 2000-03-19 | Canoe paddle        |        2 |  40.00 |\n",
            "| 10298      | 2000-04-01 | Ear Muffs           |        1 |  12.50 |\n",
            "| 10330      | 2000-04-19 | Shovel              |        1 |  16.75 |\n",
            "+------------+------------+---------------------+----------+--------+\n"
          ]
        }
      ]
    },
    {
      "cell_type": "code",
      "source": [
        "!mysql praxisDB -e 'Select item ,MAX(price),MIN(price) From itemsordered Group By item Having MAX(price)>88.00'"
      ],
      "metadata": {
        "colab": {
          "base_uri": "https://localhost:8080/"
        },
        "id": "rHpgcQvBGC0j",
        "outputId": "ebc52242-1b4b-4fa9-9d46-7f22a4c2d786"
      },
      "execution_count": null,
      "outputs": [
        {
          "output_type": "stream",
          "name": "stdout",
          "text": [
            "+--------------+------------+------------+\n",
            "| item         | MAX(price) | MIN(price) |\n",
            "+--------------+------------+------------+\n",
            "| Bicycle      |     380.50 |     380.50 |\n",
            "| Canoe        |     280.00 |     280.00 |\n",
            "| Life Vest    |     125.00 |     125.00 |\n",
            "| Parachute    |     999.99 |     999.99 |\n",
            "| Sleeping Bag |      89.22 |      88.70 |\n",
            "| Unicycle     |     192.50 |     180.79 |\n",
            "+--------------+------------+------------+\n"
          ]
        }
      ]
    },
    {
      "cell_type": "code",
      "source": [
        "!mysql praxisDB -e 'Select customerid, SUM(price) From itemsordered GROUP BY customerid Having COUNT(customerid) >1'"
      ],
      "metadata": {
        "colab": {
          "base_uri": "https://localhost:8080/"
        },
        "id": "A-A5LV0FHk0i",
        "outputId": "28768439-2b80-4aec-dbff-2fbb92cb5876"
      },
      "execution_count": null,
      "outputs": [
        {
          "output_type": "stream",
          "name": "stdout",
          "text": [
            "+------------+------------+\n",
            "| customerid | SUM(price) |\n",
            "+------------+------------+\n",
            "| 10101      |     320.75 |\n",
            "| 10298      |     118.88 |\n",
            "| 10299      |    1037.99 |\n",
            "| 10330      |      72.75 |\n",
            "| 10410      |     281.72 |\n",
            "| 10438      |      95.24 |\n",
            "| 10439      |     113.50 |\n",
            "| 10449      |     930.79 |\n",
            "+------------+------------+\n"
          ]
        }
      ]
    },
    {
      "cell_type": "markdown",
      "source": [
        "ORDER BY STATEMENT"
      ],
      "metadata": {
        "id": "YCxLnspCVah_"
      }
    },
    {
      "cell_type": "code",
      "source": [
        "!mysql praxisDB -e 'SELECT * From customers'"
      ],
      "metadata": {
        "id": "HQrJ7OnbCTVv",
        "colab": {
          "base_uri": "https://localhost:8080/"
        },
        "outputId": "257fe4a8-7d92-499a-ae4a-cc29fae06ae4"
      },
      "execution_count": null,
      "outputs": [
        {
          "output_type": "stream",
          "name": "stdout",
          "text": [
            "+------------+-----------+----------+--------------+----------------+\n",
            "| customerid | firstname | lastname | city         | state          |\n",
            "+------------+-----------+----------+--------------+----------------+\n",
            "| 10101      | John      | Gray     | Lynden       | Washington     |\n",
            "| 10298      | Leroy     | Brown    | Pinetop      | Arizona        |\n",
            "| 10299      | Elroy     | Keller   | Snoqualmie   | Washington     |\n",
            "| 10315      | Lisa      | Jones    | Oshkosh      | Wisconsin      |\n",
            "| 10325      | Ginger    | Schultz  | Pocatello    | Idaho          |\n",
            "| 10329      | Kelly     | Mendoza  | Kailua       | Hawaii         |\n",
            "| 10330      | Shawn     | Dalton   | Cannon Beach | Oregon         |\n",
            "| 10338      | Michael   | Howell   | Tillamook    | Oregon         |\n",
            "| 10339      | Anthony   | Sanchez  | Winslow      | Arizona        |\n",
            "| 10408      | Elroy     | Cleaver  | Globe        | Arizona        |\n",
            "| 10410      | Mary Ann  | Howell   | Charleston   | South Carolina |\n",
            "| 10413      | Donald    | Davids   | Gila Bend    | Arizona        |\n",
            "| 10419      | Linda     | Sakahara | Nogales      | Arizona        |\n",
            "| 10429      | Sarah     | Graham   | Greensboro   | North Carolina |\n",
            "| 10438      | Kevin     | Smith    | Durango      | Colorado       |\n",
            "| 10439      | Conrad    | Giles    | Telluride    | Colorado       |\n",
            "| 10449      | Isabela   | Moore    | Yuma         | Arizona        |\n",
            "+------------+-----------+----------+--------------+----------------+\n"
          ]
        }
      ]
    },
    {
      "cell_type": "code",
      "source": [
        "!mysql praxisDB -e 'SELECT firstname , lastname , city From customers ORDER BY lastname'"
      ],
      "metadata": {
        "colab": {
          "base_uri": "https://localhost:8080/"
        },
        "id": "bdNJ2ZiLV1Vr",
        "outputId": "2cf164ff-7c6b-49e2-c18a-34fe5c711ed4"
      },
      "execution_count": null,
      "outputs": [
        {
          "output_type": "stream",
          "name": "stdout",
          "text": [
            "+-----------+----------+--------------+\n",
            "| firstname | lastname | city         |\n",
            "+-----------+----------+--------------+\n",
            "| Leroy     | Brown    | Pinetop      |\n",
            "| Elroy     | Cleaver  | Globe        |\n",
            "| Shawn     | Dalton   | Cannon Beach |\n",
            "| Donald    | Davids   | Gila Bend    |\n",
            "| Conrad    | Giles    | Telluride    |\n",
            "| Sarah     | Graham   | Greensboro   |\n",
            "| John      | Gray     | Lynden       |\n",
            "| Michael   | Howell   | Tillamook    |\n",
            "| Mary Ann  | Howell   | Charleston   |\n",
            "| Lisa      | Jones    | Oshkosh      |\n",
            "| Elroy     | Keller   | Snoqualmie   |\n",
            "| Kelly     | Mendoza  | Kailua       |\n",
            "| Isabela   | Moore    | Yuma         |\n",
            "| Linda     | Sakahara | Nogales      |\n",
            "| Anthony   | Sanchez  | Winslow      |\n",
            "| Ginger    | Schultz  | Pocatello    |\n",
            "| Kevin     | Smith    | Durango      |\n",
            "+-----------+----------+--------------+\n"
          ]
        }
      ]
    },
    {
      "cell_type": "code",
      "source": [
        "!mysql praxisDB -e 'SELECT firstname , lastname , city From customers ORDER BY lastname DESC'"
      ],
      "metadata": {
        "colab": {
          "base_uri": "https://localhost:8080/"
        },
        "id": "1RObMbqHWKxE",
        "outputId": "5348d4cf-1589-4229-db2f-39afd84badd1"
      },
      "execution_count": null,
      "outputs": [
        {
          "output_type": "stream",
          "name": "stdout",
          "text": [
            "+-----------+----------+--------------+\n",
            "| firstname | lastname | city         |\n",
            "+-----------+----------+--------------+\n",
            "| Kevin     | Smith    | Durango      |\n",
            "| Ginger    | Schultz  | Pocatello    |\n",
            "| Anthony   | Sanchez  | Winslow      |\n",
            "| Linda     | Sakahara | Nogales      |\n",
            "| Isabela   | Moore    | Yuma         |\n",
            "| Kelly     | Mendoza  | Kailua       |\n",
            "| Elroy     | Keller   | Snoqualmie   |\n",
            "| Lisa      | Jones    | Oshkosh      |\n",
            "| Michael   | Howell   | Tillamook    |\n",
            "| Mary Ann  | Howell   | Charleston   |\n",
            "| John      | Gray     | Lynden       |\n",
            "| Sarah     | Graham   | Greensboro   |\n",
            "| Conrad    | Giles    | Telluride    |\n",
            "| Donald    | Davids   | Gila Bend    |\n",
            "| Shawn     | Dalton   | Cannon Beach |\n",
            "| Elroy     | Cleaver  | Globe        |\n",
            "| Leroy     | Brown    | Pinetop      |\n",
            "+-----------+----------+--------------+\n"
          ]
        }
      ]
    },
    {
      "cell_type": "code",
      "source": [
        "!mysql praxisDB -e 'SELECT item, price FROM itemsordered WHERE price > 10.00 ORDER BY price ASC';"
      ],
      "metadata": {
        "colab": {
          "base_uri": "https://localhost:8080/"
        },
        "id": "35kWmyNBWXYd",
        "outputId": "e9de6b83-f9bf-4c35-8bb0-3cd2560c4b8b"
      },
      "execution_count": null,
      "outputs": [
        {
          "output_type": "stream",
          "name": "stdout",
          "text": [
            "+---------------------+--------+\n",
            "| item                | price  |\n",
            "+---------------------+--------+\n",
            "| Ear Muffs           |  12.50 |\n",
            "| Hoola Hoop          |  14.75 |\n",
            "| Lantern             |  16.00 |\n",
            "| Shovel              |  16.75 |\n",
            "| Rain Coat           |  18.30 |\n",
            "| Helmet              |  22.00 |\n",
            "| Pocket Knife        |  22.38 |\n",
            "| Ski Poles           |  25.50 |\n",
            "| Pogo stick          |  28.00 |\n",
            "| Flashlight          |  28.00 |\n",
            "| Lantern             |  29.00 |\n",
            "| Lawnchair           |  32.00 |\n",
            "| Skateboard          |  33.00 |\n",
            "| Inflatable Mattress |  38.00 |\n",
            "| Canoe paddle        |  40.00 |\n",
            "| Snow Shoes          |  45.00 |\n",
            "| Raft                |  58.00 |\n",
            "| Tent                |  79.99 |\n",
            "| Tent                |  88.00 |\n",
            "| Sleeping Bag        |  88.70 |\n",
            "| Sleeping Bag        |  89.22 |\n",
            "| Life Vest           | 125.00 |\n",
            "| Unicycle            | 180.79 |\n",
            "| Unicycle            | 192.50 |\n",
            "| Canoe               | 280.00 |\n",
            "| Bicycle             | 380.50 |\n",
            "| Parachute           | 999.99 |\n",
            "+---------------------+--------+\n"
          ]
        }
      ]
    },
    {
      "cell_type": "markdown",
      "source": [
        "COMBINING CONDITIONS AND BOOLEAN OPERATORS"
      ],
      "metadata": {
        "id": "hnADXE3zcQXE"
      }
    },
    {
      "cell_type": "code",
      "source": [
        "!mysql praxisDB -e 'SELECT customerid, orderdate,item From itemsordered WHERE item <> \"Snow shoes\" AND item <>\"Tent\"'"
      ],
      "metadata": {
        "colab": {
          "base_uri": "https://localhost:8080/"
        },
        "id": "2lE1ATO6W1Ts",
        "outputId": "38cf17af-ba0e-4e3a-a865-2d06c9a1295a"
      },
      "execution_count": null,
      "outputs": [
        {
          "output_type": "stream",
          "name": "stdout",
          "text": [
            "+------------+------------+---------------------+\n",
            "| customerid | orderdate  | item                |\n",
            "+------------+------------+---------------------+\n",
            "| 10330      | 1999-06-30 | Pogo stick          |\n",
            "| 10101      | 1999-06-30 | Raft                |\n",
            "| 10298      | 1999-07-01 | Skateboard          |\n",
            "| 10101      | 1999-07-01 | Life Vest           |\n",
            "| 10299      | 1999-07-06 | Parachute           |\n",
            "| 10339      | 1999-07-27 | Umbrella            |\n",
            "| 10449      | 1999-08-13 | Unicycle            |\n",
            "| 10439      | 1999-08-14 | Ski Poles           |\n",
            "| 10101      | 1999-08-18 | Rain Coat           |\n",
            "| 10298      | 1999-09-19 | Lantern             |\n",
            "| 10410      | 1999-10-28 | Sleeping Bag        |\n",
            "| 10438      | 1999-11-01 | Umbrella            |\n",
            "| 10438      | 1999-11-02 | Pillow              |\n",
            "| 10298      | 1999-12-01 | Helmet              |\n",
            "| 10449      | 1999-12-15 | Bicycle             |\n",
            "| 10449      | 1999-12-22 | Canoe               |\n",
            "| 10101      | 1999-12-30 | Hoola Hoop          |\n",
            "| 10330      | 2000-01-01 | Flashlight          |\n",
            "| 10101      | 2000-01-02 | Lantern             |\n",
            "| 10299      | 2000-01-18 | Inflatable Mattress |\n",
            "| 10413      | 2000-01-19 | Lawnchair           |\n",
            "| 10410      | 2000-01-30 | Unicycle            |\n",
            "| 10315      | 2000-02-02 | Compass             |\n",
            "| 10449      | 2000-02-29 | Flashlight          |\n",
            "| 10101      | 2000-03-08 | Sleeping Bag        |\n",
            "| 10298      | 2000-03-18 | Pocket Knife        |\n",
            "| 10449      | 2000-03-19 | Canoe paddle        |\n",
            "| 10298      | 2000-04-01 | Ear Muffs           |\n",
            "| 10330      | 2000-04-19 | Shovel              |\n",
            "+------------+------------+---------------------+\n"
          ]
        }
      ]
    },
    {
      "cell_type": "code",
      "source": [
        "!mysql praxisDB -e 'SELECT item , price From itemsordered WHERE (item LIKE \"C%\") OR (item LIKE \"S%\") OR (item LIKE \"F%\")'"
      ],
      "metadata": {
        "colab": {
          "base_uri": "https://localhost:8080/"
        },
        "id": "qdod39SuYCoZ",
        "outputId": "f58e7c71-b32f-4830-982f-a3de67248602"
      },
      "execution_count": null,
      "outputs": [
        {
          "output_type": "stream",
          "name": "stdout",
          "text": [
            "+--------------+--------+\n",
            "| item         | price  |\n",
            "+--------------+--------+\n",
            "| Skateboard   |  33.00 |\n",
            "| Ski Poles    |  25.50 |\n",
            "| Snow Shoes   |  45.00 |\n",
            "| Sleeping Bag |  89.22 |\n",
            "| Canoe        | 280.00 |\n",
            "| Flashlight   |  28.00 |\n",
            "| Compass      |   8.00 |\n",
            "| Flashlight   |   4.50 |\n",
            "| Sleeping Bag |  88.70 |\n",
            "| Canoe paddle |  40.00 |\n",
            "| Shovel       |  16.75 |\n",
            "+--------------+--------+\n"
          ]
        }
      ]
    },
    {
      "cell_type": "markdown",
      "source": [
        "IN & BETWEEN STATEMENTS"
      ],
      "metadata": {
        "id": "HKpyNt8Qcb03"
      }
    },
    {
      "cell_type": "code",
      "source": [
        "!mysql praxisDB -e 'SELECT orderdate, item, price From itemsordered Where price BETWEEN 20 AND 60'"
      ],
      "metadata": {
        "colab": {
          "base_uri": "https://localhost:8080/"
        },
        "id": "pWRtp0vdYfkq",
        "outputId": "5f46cb4d-7405-4e36-d0a6-cfc201e486b9"
      },
      "execution_count": null,
      "outputs": [
        {
          "output_type": "stream",
          "name": "stdout",
          "text": [
            "+------------+---------------------+-------+\n",
            "| orderdate  | item                | price |\n",
            "+------------+---------------------+-------+\n",
            "| 1999-06-30 | Pogo stick          | 28.00 |\n",
            "| 1999-06-30 | Raft                | 58.00 |\n",
            "| 1999-07-01 | Skateboard          | 33.00 |\n",
            "| 1999-08-14 | Ski Poles           | 25.50 |\n",
            "| 1999-09-01 | Snow Shoes          | 45.00 |\n",
            "| 1999-09-19 | Lantern             | 29.00 |\n",
            "| 1999-12-01 | Helmet              | 22.00 |\n",
            "| 2000-01-01 | Flashlight          | 28.00 |\n",
            "| 2000-01-18 | Inflatable Mattress | 38.00 |\n",
            "| 2000-01-19 | Lawnchair           | 32.00 |\n",
            "| 2000-03-18 | Pocket Knife        | 22.38 |\n",
            "| 2000-03-19 | Canoe paddle        | 40.00 |\n",
            "+------------+---------------------+-------+\n"
          ]
        }
      ]
    },
    {
      "cell_type": "code",
      "source": [
        "!mysql praxisDB -e 'SELECT firstname, city, state FROM customers WHERE state IN (\"Idaho\",\"Hawaii\",\"South Carolina\")'"
      ],
      "metadata": {
        "colab": {
          "base_uri": "https://localhost:8080/"
        },
        "id": "AHCz04IgY9Sh",
        "outputId": "a7c6e63b-1632-410b-fc96-3b8d9aa088a6"
      },
      "execution_count": null,
      "outputs": [
        {
          "output_type": "stream",
          "name": "stdout",
          "text": [
            "+-----------+------------+----------------+\n",
            "| firstname | city       | state          |\n",
            "+-----------+------------+----------------+\n",
            "| Ginger    | Pocatello  | Idaho          |\n",
            "| Kelly     | Kailua     | Hawaii         |\n",
            "| Mary Ann  | Charleston | South Carolina |\n",
            "+-----------+------------+----------------+\n"
          ]
        }
      ]
    },
    {
      "cell_type": "markdown",
      "source": [
        "MATHEMATICAL FUNCTIONS STATEMENT"
      ],
      "metadata": {
        "id": "qmae0TBYZbe5"
      }
    },
    {
      "cell_type": "code",
      "source": [
        "!mysql praxisDB -e 'SELECT * From itemsordered'"
      ],
      "metadata": {
        "colab": {
          "base_uri": "https://localhost:8080/"
        },
        "id": "3Ton_AO1ZpTa",
        "outputId": "b55a8024-5a55-475a-e2ac-e9724c91d8f4"
      },
      "execution_count": null,
      "outputs": [
        {
          "output_type": "stream",
          "name": "stdout",
          "text": [
            "+------------+------------+---------------------+----------+--------+\n",
            "| customerid | orderdate  | item                | quantity | price  |\n",
            "+------------+------------+---------------------+----------+--------+\n",
            "| 10330      | 1999-06-30 | Pogo stick          |        1 |  28.00 |\n",
            "| 10101      | 1999-06-30 | Raft                |        1 |  58.00 |\n",
            "| 10298      | 1999-07-01 | Skateboard          |        1 |  33.00 |\n",
            "| 10101      | 1999-07-01 | Life Vest           |        4 | 125.00 |\n",
            "| 10299      | 1999-07-06 | Parachute           |        1 | 999.99 |\n",
            "| 10339      | 1999-07-27 | Umbrella            |        1 |   4.50 |\n",
            "| 10449      | 1999-08-13 | Unicycle            |        1 | 180.79 |\n",
            "| 10439      | 1999-08-14 | Ski Poles           |        2 |  25.50 |\n",
            "| 10101      | 1999-08-18 | Rain Coat           |        1 |  18.30 |\n",
            "| 10449      | 1999-09-01 | Snow Shoes          |        1 |  45.00 |\n",
            "| 10439      | 1999-09-18 | Tent                |        1 |  88.00 |\n",
            "| 10298      | 1999-09-19 | Lantern             |        2 |  29.00 |\n",
            "| 10410      | 1999-10-28 | Sleeping Bag        |        1 |  89.22 |\n",
            "| 10438      | 1999-11-01 | Umbrella            |        1 |   6.75 |\n",
            "| 10438      | 1999-11-02 | Pillow              |        1 |   8.50 |\n",
            "| 10298      | 1999-12-01 | Helmet              |        1 |  22.00 |\n",
            "| 10449      | 1999-12-15 | Bicycle             |        1 | 380.50 |\n",
            "| 10449      | 1999-12-22 | Canoe               |        1 | 280.00 |\n",
            "| 10101      | 1999-12-30 | Hoola Hoop          |        3 |  14.75 |\n",
            "| 10330      | 2000-01-01 | Flashlight          |        4 |  28.00 |\n",
            "| 10101      | 2000-01-02 | Lantern             |        1 |  16.00 |\n",
            "| 10299      | 2000-01-18 | Inflatable Mattress |        1 |  38.00 |\n",
            "| 10438      | 2000-01-18 | Tent                |        1 |  79.99 |\n",
            "| 10413      | 2000-01-19 | Lawnchair           |        4 |  32.00 |\n",
            "| 10410      | 2000-01-30 | Unicycle            |        1 | 192.50 |\n",
            "| 10315      | 2000-02-02 | Compass             |        1 |   8.00 |\n",
            "| 10449      | 2000-02-29 | Flashlight          |        1 |   4.50 |\n",
            "| 10101      | 2000-03-08 | Sleeping Bag        |        2 |  88.70 |\n",
            "| 10298      | 2000-03-18 | Pocket Knife        |        1 |  22.38 |\n",
            "| 10449      | 2000-03-19 | Canoe paddle        |        2 |  40.00 |\n",
            "| 10298      | 2000-04-01 | Ear Muffs           |        1 |  12.50 |\n",
            "| 10330      | 2000-04-19 | Shovel              |        1 |  16.75 |\n",
            "+------------+------------+---------------------+----------+--------+\n"
          ]
        }
      ]
    },
    {
      "cell_type": "markdown",
      "source": [
        "MATHEMATICAL FUNCTIONS"
      ],
      "metadata": {
        "id": "rOmY0O1dcjlS"
      }
    },
    {
      "cell_type": "code",
      "source": [
        "!mysql praxisDB -e 'SELECT item, SUM(price)/SUM(quantity) From itemsordered GROUP BY item'"
      ],
      "metadata": {
        "colab": {
          "base_uri": "https://localhost:8080/"
        },
        "id": "8wisVIXPZ4LL",
        "outputId": "199c1219-46f2-404a-980b-918331090d3f"
      },
      "execution_count": null,
      "outputs": [
        {
          "output_type": "stream",
          "name": "stdout",
          "text": [
            "+---------------------+--------------------------+\n",
            "| item                | SUM(price)/SUM(quantity) |\n",
            "+---------------------+--------------------------+\n",
            "| Bicycle             |               380.500000 |\n",
            "| Canoe               |               280.000000 |\n",
            "| Canoe paddle        |                20.000000 |\n",
            "| Compass             |                 8.000000 |\n",
            "| Ear Muffs           |                12.500000 |\n",
            "| Flashlight          |                 6.500000 |\n",
            "| Helmet              |                22.000000 |\n",
            "| Hoola Hoop          |                 4.916667 |\n",
            "| Inflatable Mattress |                38.000000 |\n",
            "| Lantern             |                15.000000 |\n",
            "| Lawnchair           |                 8.000000 |\n",
            "| Life Vest           |                31.250000 |\n",
            "| Parachute           |               999.990000 |\n",
            "| Pillow              |                 8.500000 |\n",
            "| Pocket Knife        |                22.380000 |\n",
            "| Pogo stick          |                28.000000 |\n",
            "| Raft                |                58.000000 |\n",
            "| Rain Coat           |                18.300000 |\n",
            "| Shovel              |                16.750000 |\n",
            "| Skateboard          |                33.000000 |\n",
            "| Ski Poles           |                12.750000 |\n",
            "| Sleeping Bag        |                59.306667 |\n",
            "| Snow Shoes          |                45.000000 |\n",
            "| Tent                |                83.995000 |\n",
            "| Umbrella            |                 5.625000 |\n",
            "| Unicycle            |               186.645000 |\n",
            "+---------------------+--------------------------+\n"
          ]
        }
      ]
    },
    {
      "cell_type": "markdown",
      "source": [
        "TABLE JOINS STATEMENT"
      ],
      "metadata": {
        "id": "tjorUzabaPtW"
      }
    },
    {
      "cell_type": "code",
      "source": [
        "!mysql praxisDB -e 'SELECT* From customers'"
      ],
      "metadata": {
        "colab": {
          "base_uri": "https://localhost:8080/"
        },
        "id": "gdfhtXlvaUj8",
        "outputId": "90d20d0c-9e63-4574-bd4f-ea14671e30a0"
      },
      "execution_count": null,
      "outputs": [
        {
          "output_type": "stream",
          "name": "stdout",
          "text": [
            "+------------+-----------+----------+--------------+----------------+\n",
            "| customerid | firstname | lastname | city         | state          |\n",
            "+------------+-----------+----------+--------------+----------------+\n",
            "| 10101      | John      | Gray     | Lynden       | Washington     |\n",
            "| 10298      | Leroy     | Brown    | Pinetop      | Arizona        |\n",
            "| 10299      | Elroy     | Keller   | Snoqualmie   | Washington     |\n",
            "| 10315      | Lisa      | Jones    | Oshkosh      | Wisconsin      |\n",
            "| 10325      | Ginger    | Schultz  | Pocatello    | Idaho          |\n",
            "| 10329      | Kelly     | Mendoza  | Kailua       | Hawaii         |\n",
            "| 10330      | Shawn     | Dalton   | Cannon Beach | Oregon         |\n",
            "| 10338      | Michael   | Howell   | Tillamook    | Oregon         |\n",
            "| 10339      | Anthony   | Sanchez  | Winslow      | Arizona        |\n",
            "| 10408      | Elroy     | Cleaver  | Globe        | Arizona        |\n",
            "| 10410      | Mary Ann  | Howell   | Charleston   | South Carolina |\n",
            "| 10413      | Donald    | Davids   | Gila Bend    | Arizona        |\n",
            "| 10419      | Linda     | Sakahara | Nogales      | Arizona        |\n",
            "| 10429      | Sarah     | Graham   | Greensboro   | North Carolina |\n",
            "| 10438      | Kevin     | Smith    | Durango      | Colorado       |\n",
            "| 10439      | Conrad    | Giles    | Telluride    | Colorado       |\n",
            "| 10449      | Isabela   | Moore    | Yuma         | Arizona        |\n",
            "+------------+-----------+----------+--------------+----------------+\n"
          ]
        }
      ]
    },
    {
      "cell_type": "code",
      "source": [
        "!mysql praxisDB -e 'SELECT customers.customerid, customers.firstname, customers.lastname, itemsordered.orderdate, itemsordered.item, itemsordered.price FROM customers, itemsordered WHERE customers.customerid = itemsordered.customerid'"
      ],
      "metadata": {
        "colab": {
          "base_uri": "https://localhost:8080/"
        },
        "id": "UX1wkPjsagOU",
        "outputId": "99816b12-f427-47cd-91e4-44f77aae6084"
      },
      "execution_count": null,
      "outputs": [
        {
          "output_type": "stream",
          "name": "stdout",
          "text": [
            "+------------+-----------+----------+------------+---------------------+--------+\n",
            "| customerid | firstname | lastname | orderdate  | item                | price  |\n",
            "+------------+-----------+----------+------------+---------------------+--------+\n",
            "| 10330      | Shawn     | Dalton   | 1999-06-30 | Pogo stick          |  28.00 |\n",
            "| 10101      | John      | Gray     | 1999-06-30 | Raft                |  58.00 |\n",
            "| 10298      | Leroy     | Brown    | 1999-07-01 | Skateboard          |  33.00 |\n",
            "| 10101      | John      | Gray     | 1999-07-01 | Life Vest           | 125.00 |\n",
            "| 10299      | Elroy     | Keller   | 1999-07-06 | Parachute           | 999.99 |\n",
            "| 10339      | Anthony   | Sanchez  | 1999-07-27 | Umbrella            |   4.50 |\n",
            "| 10449      | Isabela   | Moore    | 1999-08-13 | Unicycle            | 180.79 |\n",
            "| 10439      | Conrad    | Giles    | 1999-08-14 | Ski Poles           |  25.50 |\n",
            "| 10101      | John      | Gray     | 1999-08-18 | Rain Coat           |  18.30 |\n",
            "| 10449      | Isabela   | Moore    | 1999-09-01 | Snow Shoes          |  45.00 |\n",
            "| 10439      | Conrad    | Giles    | 1999-09-18 | Tent                |  88.00 |\n",
            "| 10298      | Leroy     | Brown    | 1999-09-19 | Lantern             |  29.00 |\n",
            "| 10410      | Mary Ann  | Howell   | 1999-10-28 | Sleeping Bag        |  89.22 |\n",
            "| 10438      | Kevin     | Smith    | 1999-11-01 | Umbrella            |   6.75 |\n",
            "| 10438      | Kevin     | Smith    | 1999-11-02 | Pillow              |   8.50 |\n",
            "| 10298      | Leroy     | Brown    | 1999-12-01 | Helmet              |  22.00 |\n",
            "| 10449      | Isabela   | Moore    | 1999-12-15 | Bicycle             | 380.50 |\n",
            "| 10449      | Isabela   | Moore    | 1999-12-22 | Canoe               | 280.00 |\n",
            "| 10101      | John      | Gray     | 1999-12-30 | Hoola Hoop          |  14.75 |\n",
            "| 10330      | Shawn     | Dalton   | 2000-01-01 | Flashlight          |  28.00 |\n",
            "| 10101      | John      | Gray     | 2000-01-02 | Lantern             |  16.00 |\n",
            "| 10299      | Elroy     | Keller   | 2000-01-18 | Inflatable Mattress |  38.00 |\n",
            "| 10438      | Kevin     | Smith    | 2000-01-18 | Tent                |  79.99 |\n",
            "| 10413      | Donald    | Davids   | 2000-01-19 | Lawnchair           |  32.00 |\n",
            "| 10410      | Mary Ann  | Howell   | 2000-01-30 | Unicycle            | 192.50 |\n",
            "| 10315      | Lisa      | Jones    | 2000-02-02 | Compass             |   8.00 |\n",
            "| 10449      | Isabela   | Moore    | 2000-02-29 | Flashlight          |   4.50 |\n",
            "| 10101      | John      | Gray     | 2000-03-08 | Sleeping Bag        |  88.70 |\n",
            "| 10298      | Leroy     | Brown    | 2000-03-18 | Pocket Knife        |  22.38 |\n",
            "| 10449      | Isabela   | Moore    | 2000-03-19 | Canoe paddle        |  40.00 |\n",
            "| 10298      | Leroy     | Brown    | 2000-04-01 | Ear Muffs           |  12.50 |\n",
            "| 10330      | Shawn     | Dalton   | 2000-04-19 | Shovel              |  16.75 |\n",
            "+------------+-----------+----------+------------+---------------------+--------+\n"
          ]
        }
      ]
    },
    {
      "cell_type": "code",
      "source": [
        "!mysql praxisDB -e 'SELECT customers.customerid, customers.firstname, customers.state, itemsordered.item From customers, itemsordered Where customers.customerid=itemsordered.customerid ORDER BY customers.state DESC'"
      ],
      "metadata": {
        "colab": {
          "base_uri": "https://localhost:8080/"
        },
        "id": "tyuRtq8pazk5",
        "outputId": "b836f45a-3d8a-407a-8452-cce913e91ee8"
      },
      "execution_count": null,
      "outputs": [
        {
          "output_type": "stream",
          "name": "stdout",
          "text": [
            "+------------+-----------+----------------+---------------------+\n",
            "| customerid | firstname | state          | item                |\n",
            "+------------+-----------+----------------+---------------------+\n",
            "| 10315      | Lisa      | Wisconsin      | Compass             |\n",
            "| 10101      | John      | Washington     | Life Vest           |\n",
            "| 10299      | Elroy     | Washington     | Parachute           |\n",
            "| 10101      | John      | Washington     | Lantern             |\n",
            "| 10101      | John      | Washington     | Raft                |\n",
            "| 10101      | John      | Washington     | Sleeping Bag        |\n",
            "| 10101      | John      | Washington     | Rain Coat           |\n",
            "| 10299      | Elroy     | Washington     | Inflatable Mattress |\n",
            "| 10101      | John      | Washington     | Hoola Hoop          |\n",
            "| 10410      | Mary Ann  | South Carolina | Unicycle            |\n",
            "| 10410      | Mary Ann  | South Carolina | Sleeping Bag        |\n",
            "| 10330      | Shawn     | Oregon         | Flashlight          |\n",
            "| 10330      | Shawn     | Oregon         | Pogo stick          |\n",
            "| 10330      | Shawn     | Oregon         | Shovel              |\n",
            "| 10438      | Kevin     | Colorado       | Umbrella            |\n",
            "| 10439      | Conrad    | Colorado       | Tent                |\n",
            "| 10439      | Conrad    | Colorado       | Ski Poles           |\n",
            "| 10438      | Kevin     | Colorado       | Pillow              |\n",
            "| 10438      | Kevin     | Colorado       | Tent                |\n",
            "| 10449      | Isabela   | Arizona        | Bicycle             |\n",
            "| 10449      | Isabela   | Arizona        | Canoe paddle        |\n",
            "| 10449      | Isabela   | Arizona        | Flashlight          |\n",
            "| 10413      | Donald    | Arizona        | Lawnchair           |\n",
            "| 10449      | Isabela   | Arizona        | Canoe               |\n",
            "| 10298      | Leroy     | Arizona        | Ear Muffs           |\n",
            "| 10298      | Leroy     | Arizona        | Lantern             |\n",
            "| 10339      | Anthony   | Arizona        | Umbrella            |\n",
            "| 10298      | Leroy     | Arizona        | Skateboard          |\n",
            "| 10298      | Leroy     | Arizona        | Helmet              |\n",
            "| 10298      | Leroy     | Arizona        | Pocket Knife        |\n",
            "| 10449      | Isabela   | Arizona        | Snow Shoes          |\n",
            "| 10449      | Isabela   | Arizona        | Unicycle            |\n",
            "+------------+-----------+----------------+---------------------+\n"
          ]
        }
      ]
    },
    {
      "cell_type": "markdown",
      "source": [],
      "metadata": {
        "id": "LSyzP_SWaFWx"
      }
    }
  ],
  "metadata": {
    "colab": {
      "collapsed_sections": [
        "9PiliVxOwf0X"
      ],
      "provenance": []
    },
    "kernelspec": {
      "display_name": "Python 3",
      "name": "python3"
    }
  },
  "nbformat": 4,
  "nbformat_minor": 0
}